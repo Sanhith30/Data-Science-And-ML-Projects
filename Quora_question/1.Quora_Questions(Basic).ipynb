{
 "cells": [
  {
   "cell_type": "code",
   "execution_count": 1,
   "id": "5bef34aa-3613-4dc9-9d1f-3bbd07b7710b",
   "metadata": {},
   "outputs": [],
   "source": [
    "import numpy as np\n",
    "import pandas as pd\n",
    "import matplotlib.pyplot as plt\n",
    "import seaborn as sns\n",
    "import warnings\n",
    "warnings.filterwarnings('ignore')"
   ]
  },
  {
   "cell_type": "code",
   "execution_count": 2,
   "id": "2bf7a14b",
   "metadata": {
    "id": "2bf7a14b"
   },
   "outputs": [],
   "source": [
    "df = pd.read_csv('train.csv')"
   ]
  },
  {
   "cell_type": "code",
   "execution_count": 3,
   "id": "cc36984b",
   "metadata": {
    "colab": {
     "base_uri": "https://localhost:8080/"
    },
    "id": "cc36984b",
    "outputId": "2dbe11de-58c9-4f83-f352-b2a977e9639d"
   },
   "outputs": [],
   "source": [
    "df.shape\n",
    "new_df = df.dropna().sample(90000, random_state=2)\n"
   ]
  },
  {
   "cell_type": "code",
   "execution_count": 4,
   "id": "fbbaf6ba",
   "metadata": {
    "colab": {
     "base_uri": "https://localhost:8080/",
     "height": 206
    },
    "id": "fbbaf6ba",
    "outputId": "6c90c5a8-d47f-420e-b514-113951e34284"
   },
   "outputs": [
    {
     "data": {
      "text/html": [
       "<div>\n",
       "<style scoped>\n",
       "    .dataframe tbody tr th:only-of-type {\n",
       "        vertical-align: middle;\n",
       "    }\n",
       "\n",
       "    .dataframe tbody tr th {\n",
       "        vertical-align: top;\n",
       "    }\n",
       "\n",
       "    .dataframe thead th {\n",
       "        text-align: right;\n",
       "    }\n",
       "</style>\n",
       "<table border=\"1\" class=\"dataframe\">\n",
       "  <thead>\n",
       "    <tr style=\"text-align: right;\">\n",
       "      <th></th>\n",
       "      <th>id</th>\n",
       "      <th>qid1</th>\n",
       "      <th>qid2</th>\n",
       "      <th>question1</th>\n",
       "      <th>question2</th>\n",
       "      <th>is_duplicate</th>\n",
       "    </tr>\n",
       "  </thead>\n",
       "  <tbody>\n",
       "    <tr>\n",
       "      <th>331535</th>\n",
       "      <td>331535</td>\n",
       "      <td>169053</td>\n",
       "      <td>295926</td>\n",
       "      <td>How can I learn Norwegian?</td>\n",
       "      <td>What is the quickest way to learn Norwegian?</td>\n",
       "      <td>1</td>\n",
       "    </tr>\n",
       "    <tr>\n",
       "      <th>45407</th>\n",
       "      <td>45407</td>\n",
       "      <td>81383</td>\n",
       "      <td>81384</td>\n",
       "      <td>How are currency rates determined?</td>\n",
       "      <td>Where and how are exchange rates determined?</td>\n",
       "      <td>1</td>\n",
       "    </tr>\n",
       "    <tr>\n",
       "      <th>286200</th>\n",
       "      <td>286200</td>\n",
       "      <td>285024</td>\n",
       "      <td>406729</td>\n",
       "      <td>What is substitution?</td>\n",
       "      <td>What is a substitute for caciocavallo?</td>\n",
       "      <td>0</td>\n",
       "    </tr>\n",
       "    <tr>\n",
       "      <th>157195</th>\n",
       "      <td>157195</td>\n",
       "      <td>245856</td>\n",
       "      <td>245857</td>\n",
       "      <td>How can I make iPhone 4s faster with IOS 9.2?</td>\n",
       "      <td>I have an iPhone 4S. How do I make it faster a...</td>\n",
       "      <td>1</td>\n",
       "    </tr>\n",
       "    <tr>\n",
       "      <th>154346</th>\n",
       "      <td>154346</td>\n",
       "      <td>242075</td>\n",
       "      <td>242076</td>\n",
       "      <td>How can I help my girlfriend cope with her par...</td>\n",
       "      <td>What can I do to help my girlfriend through he...</td>\n",
       "      <td>1</td>\n",
       "    </tr>\n",
       "  </tbody>\n",
       "</table>\n",
       "</div>"
      ],
      "text/plain": [
       "            id    qid1    qid2  \\\n",
       "331535  331535  169053  295926   \n",
       "45407    45407   81383   81384   \n",
       "286200  286200  285024  406729   \n",
       "157195  157195  245856  245857   \n",
       "154346  154346  242075  242076   \n",
       "\n",
       "                                                question1  \\\n",
       "331535                         How can I learn Norwegian?   \n",
       "45407                  How are currency rates determined?   \n",
       "286200                              What is substitution?   \n",
       "157195      How can I make iPhone 4s faster with IOS 9.2?   \n",
       "154346  How can I help my girlfriend cope with her par...   \n",
       "\n",
       "                                                question2  is_duplicate  \n",
       "331535       What is the quickest way to learn Norwegian?             1  \n",
       "45407        Where and how are exchange rates determined?             1  \n",
       "286200             What is a substitute for caciocavallo?             0  \n",
       "157195  I have an iPhone 4S. How do I make it faster a...             1  \n",
       "154346  What can I do to help my girlfriend through he...             1  "
      ]
     },
     "execution_count": 4,
     "metadata": {},
     "output_type": "execute_result"
    }
   ],
   "source": [
    "new_df.head()"
   ]
  },
  {
   "cell_type": "code",
   "execution_count": 5,
   "id": "8d6a6a42",
   "metadata": {
    "colab": {
     "base_uri": "https://localhost:8080/",
     "height": 292
    },
    "id": "8d6a6a42",
    "outputId": "79d57b66-9eaf-4d23-97fd-ab78fdaffdb0"
   },
   "outputs": [
    {
     "data": {
      "text/plain": [
       "id              0\n",
       "qid1            0\n",
       "qid2            0\n",
       "question1       0\n",
       "question2       0\n",
       "is_duplicate    0\n",
       "dtype: int64"
      ]
     },
     "execution_count": 5,
     "metadata": {},
     "output_type": "execute_result"
    }
   ],
   "source": [
    "new_df.isnull().sum()"
   ]
  },
  {
   "cell_type": "code",
   "execution_count": 6,
   "id": "c4c27d8f",
   "metadata": {
    "colab": {
     "base_uri": "https://localhost:8080/"
    },
    "id": "c4c27d8f",
    "outputId": "9be26a30-4531-4c61-8188-ea8bf3b7efca"
   },
   "outputs": [
    {
     "data": {
      "text/plain": [
       "np.int64(0)"
      ]
     },
     "execution_count": 6,
     "metadata": {},
     "output_type": "execute_result"
    }
   ],
   "source": [
    "new_df.duplicated().sum()"
   ]
  },
  {
   "cell_type": "code",
   "execution_count": 7,
   "id": "b7863cea",
   "metadata": {
    "colab": {
     "base_uri": "https://localhost:8080/",
     "height": 620
    },
    "id": "b7863cea",
    "outputId": "cfce80fa-8a6b-4a3d-9428-0fd6c5eaa141"
   },
   "outputs": [
    {
     "name": "stdout",
     "output_type": "stream",
     "text": [
      "is_duplicate\n",
      "0    56702\n",
      "1    33298\n",
      "Name: count, dtype: int64\n",
      "is_duplicate\n",
      "0    63.002222\n",
      "1    36.997778\n",
      "Name: count, dtype: float64\n"
     ]
    },
    {
     "data": {
      "text/plain": [
       "<Axes: xlabel='is_duplicate'>"
      ]
     },
     "execution_count": 7,
     "metadata": {},
     "output_type": "execute_result"
    },
    {
     "data": {
      "image/png": "[encoded data removed]",
      "text/plain": [
       "<Figure size 640x480 with 1 Axes>"
      ]
     },
     "metadata": {},
     "output_type": "display_data"
    }
   ],
   "source": [
    "# Distribution of duplicate and non-duplicate questions\n",
    "\n",
    "print(new_df['is_duplicate'].value_counts())\n",
    "print((new_df['is_duplicate'].value_counts()/new_df['is_duplicate'].count())*100)\n",
    "new_df['is_duplicate'].value_counts().plot(kind='bar')"
   ]
  },
  {
   "cell_type": "code",
   "execution_count": 8,
   "id": "691d9143",
   "metadata": {
    "colab": {
     "base_uri": "https://localhost:8080/"
    },
    "id": "691d9143",
    "outputId": "2a1b03a6-6e43-40f2-d3c2-72270d62a3ec"
   },
   "outputs": [
    {
     "name": "stdout",
     "output_type": "stream",
     "text": [
      "Number of unique questions 151483\n",
      "Number of questions getting repeated 16815\n"
     ]
    }
   ],
   "source": [
    "# Repeated questions\n",
    "\n",
    "qid = pd.Series(new_df['qid1'].tolist() + new_df['qid2'].tolist())\n",
    "print('Number of unique questions',np.unique(qid).shape[0])\n",
    "x = qid.value_counts()>1\n",
    "print('Number of questions getting repeated',x[x].shape[0])"
   ]
  },
  {
   "cell_type": "code",
   "execution_count": 9,
   "id": "e314640d",
   "metadata": {
    "colab": {
     "base_uri": "https://localhost:8080/",
     "height": 450
    },
    "id": "e314640d",
    "outputId": "f2799dad-e574-4968-d896-13bb726251b7"
   },
   "outputs": [
    {
     "data": {
      "image/png": "[encoded data removed]",
      "text/plain": [
       "<Figure size 640x480 with 1 Axes>"
      ]
     },
     "metadata": {},
     "output_type": "display_data"
    }
   ],
   "source": [
    "# Repeated questions histogram\n",
    "\n",
    "plt.hist(qid.value_counts().values,bins=160)\n",
    "plt.yscale('log')\n",
    "plt.show()"
   ]
  },
  {
   "cell_type": "code",
   "execution_count": 10,
   "id": "dc38a62b",
   "metadata": {
    "id": "dc38a62b"
   },
   "outputs": [],
   "source": [
    "# Feature Engineering\n",
    "\n",
    "new_df['q1_len'] = new_df['question1'].str.len()\n",
    "new_df['q2_len'] = new_df['question2'].str.len()"
   ]
  },
  {
   "cell_type": "code",
   "execution_count": 11,
   "id": "bfb29dcd",
   "metadata": {
    "colab": {
     "base_uri": "https://localhost:8080/",
     "height": 226
    },
    "id": "bfb29dcd",
    "outputId": "b4b36ed6-8cc5-42ba-b715-b7f4cf739ffe"
   },
   "outputs": [
    {
     "data": {
      "text/html": [
       "<div>\n",
       "<style scoped>\n",
       "    .dataframe tbody tr th:only-of-type {\n",
       "        vertical-align: middle;\n",
       "    }\n",
       "\n",
       "    .dataframe tbody tr th {\n",
       "        vertical-align: top;\n",
       "    }\n",
       "\n",
       "    .dataframe thead th {\n",
       "        text-align: right;\n",
       "    }\n",
       "</style>\n",
       "<table border=\"1\" class=\"dataframe\">\n",
       "  <thead>\n",
       "    <tr style=\"text-align: right;\">\n",
       "      <th></th>\n",
       "      <th>id</th>\n",
       "      <th>qid1</th>\n",
       "      <th>qid2</th>\n",
       "      <th>question1</th>\n",
       "      <th>question2</th>\n",
       "      <th>is_duplicate</th>\n",
       "      <th>q1_len</th>\n",
       "      <th>q2_len</th>\n",
       "    </tr>\n",
       "  </thead>\n",
       "  <tbody>\n",
       "    <tr>\n",
       "      <th>331535</th>\n",
       "      <td>331535</td>\n",
       "      <td>169053</td>\n",
       "      <td>295926</td>\n",
       "      <td>How can I learn Norwegian?</td>\n",
       "      <td>What is the quickest way to learn Norwegian?</td>\n",
       "      <td>1</td>\n",
       "      <td>26</td>\n",
       "      <td>44</td>\n",
       "    </tr>\n",
       "    <tr>\n",
       "      <th>45407</th>\n",
       "      <td>45407</td>\n",
       "      <td>81383</td>\n",
       "      <td>81384</td>\n",
       "      <td>How are currency rates determined?</td>\n",
       "      <td>Where and how are exchange rates determined?</td>\n",
       "      <td>1</td>\n",
       "      <td>34</td>\n",
       "      <td>44</td>\n",
       "    </tr>\n",
       "    <tr>\n",
       "      <th>286200</th>\n",
       "      <td>286200</td>\n",
       "      <td>285024</td>\n",
       "      <td>406729</td>\n",
       "      <td>What is substitution?</td>\n",
       "      <td>What is a substitute for caciocavallo?</td>\n",
       "      <td>0</td>\n",
       "      <td>21</td>\n",
       "      <td>38</td>\n",
       "    </tr>\n",
       "    <tr>\n",
       "      <th>157195</th>\n",
       "      <td>157195</td>\n",
       "      <td>245856</td>\n",
       "      <td>245857</td>\n",
       "      <td>How can I make iPhone 4s faster with IOS 9.2?</td>\n",
       "      <td>I have an iPhone 4S. How do I make it faster a...</td>\n",
       "      <td>1</td>\n",
       "      <td>45</td>\n",
       "      <td>73</td>\n",
       "    </tr>\n",
       "    <tr>\n",
       "      <th>154346</th>\n",
       "      <td>154346</td>\n",
       "      <td>242075</td>\n",
       "      <td>242076</td>\n",
       "      <td>How can I help my girlfriend cope with her par...</td>\n",
       "      <td>What can I do to help my girlfriend through he...</td>\n",
       "      <td>1</td>\n",
       "      <td>59</td>\n",
       "      <td>64</td>\n",
       "    </tr>\n",
       "  </tbody>\n",
       "</table>\n",
       "</div>"
      ],
      "text/plain": [
       "            id    qid1    qid2  \\\n",
       "331535  331535  169053  295926   \n",
       "45407    45407   81383   81384   \n",
       "286200  286200  285024  406729   \n",
       "157195  157195  245856  245857   \n",
       "154346  154346  242075  242076   \n",
       "\n",
       "                                                question1  \\\n",
       "331535                         How can I learn Norwegian?   \n",
       "45407                  How are currency rates determined?   \n",
       "286200                              What is substitution?   \n",
       "157195      How can I make iPhone 4s faster with IOS 9.2?   \n",
       "154346  How can I help my girlfriend cope with her par...   \n",
       "\n",
       "                                                question2  is_duplicate  \\\n",
       "331535       What is the quickest way to learn Norwegian?             1   \n",
       "45407        Where and how are exchange rates determined?             1   \n",
       "286200             What is a substitute for caciocavallo?             0   \n",
       "157195  I have an iPhone 4S. How do I make it faster a...             1   \n",
       "154346  What can I do to help my girlfriend through he...             1   \n",
       "\n",
       "        q1_len  q2_len  \n",
       "331535      26      44  \n",
       "45407       34      44  \n",
       "286200      21      38  \n",
       "157195      45      73  \n",
       "154346      59      64  "
      ]
     },
     "execution_count": 11,
     "metadata": {},
     "output_type": "execute_result"
    }
   ],
   "source": [
    "new_df.head()"
   ]
  },
  {
   "cell_type": "code",
   "execution_count": 12,
   "id": "df3727a6",
   "metadata": {
    "colab": {
     "base_uri": "https://localhost:8080/",
     "height": 206
    },
    "id": "df3727a6",
    "outputId": "b7fc487f-2afd-461d-de0e-c66f7f7299cc"
   },
   "outputs": [
    {
     "data": {
      "text/html": [
       "<div>\n",
       "<style scoped>\n",
       "    .dataframe tbody tr th:only-of-type {\n",
       "        vertical-align: middle;\n",
       "    }\n",
       "\n",
       "    .dataframe tbody tr th {\n",
       "        vertical-align: top;\n",
       "    }\n",
       "\n",
       "    .dataframe thead th {\n",
       "        text-align: right;\n",
       "    }\n",
       "</style>\n",
       "<table border=\"1\" class=\"dataframe\">\n",
       "  <thead>\n",
       "    <tr style=\"text-align: right;\">\n",
       "      <th></th>\n",
       "      <th>id</th>\n",
       "      <th>qid1</th>\n",
       "      <th>qid2</th>\n",
       "      <th>question1</th>\n",
       "      <th>question2</th>\n",
       "      <th>is_duplicate</th>\n",
       "      <th>q1_len</th>\n",
       "      <th>q2_len</th>\n",
       "      <th>q1_num_words</th>\n",
       "      <th>q2_num_words</th>\n",
       "    </tr>\n",
       "  </thead>\n",
       "  <tbody>\n",
       "    <tr>\n",
       "      <th>331535</th>\n",
       "      <td>331535</td>\n",
       "      <td>169053</td>\n",
       "      <td>295926</td>\n",
       "      <td>How can I learn Norwegian?</td>\n",
       "      <td>What is the quickest way to learn Norwegian?</td>\n",
       "      <td>1</td>\n",
       "      <td>26</td>\n",
       "      <td>44</td>\n",
       "      <td>5</td>\n",
       "      <td>8</td>\n",
       "    </tr>\n",
       "    <tr>\n",
       "      <th>45407</th>\n",
       "      <td>45407</td>\n",
       "      <td>81383</td>\n",
       "      <td>81384</td>\n",
       "      <td>How are currency rates determined?</td>\n",
       "      <td>Where and how are exchange rates determined?</td>\n",
       "      <td>1</td>\n",
       "      <td>34</td>\n",
       "      <td>44</td>\n",
       "      <td>5</td>\n",
       "      <td>7</td>\n",
       "    </tr>\n",
       "    <tr>\n",
       "      <th>286200</th>\n",
       "      <td>286200</td>\n",
       "      <td>285024</td>\n",
       "      <td>406729</td>\n",
       "      <td>What is substitution?</td>\n",
       "      <td>What is a substitute for caciocavallo?</td>\n",
       "      <td>0</td>\n",
       "      <td>21</td>\n",
       "      <td>38</td>\n",
       "      <td>3</td>\n",
       "      <td>6</td>\n",
       "    </tr>\n",
       "    <tr>\n",
       "      <th>157195</th>\n",
       "      <td>157195</td>\n",
       "      <td>245856</td>\n",
       "      <td>245857</td>\n",
       "      <td>How can I make iPhone 4s faster with IOS 9.2?</td>\n",
       "      <td>I have an iPhone 4S. How do I make it faster a...</td>\n",
       "      <td>1</td>\n",
       "      <td>45</td>\n",
       "      <td>73</td>\n",
       "      <td>10</td>\n",
       "      <td>16</td>\n",
       "    </tr>\n",
       "    <tr>\n",
       "      <th>154346</th>\n",
       "      <td>154346</td>\n",
       "      <td>242075</td>\n",
       "      <td>242076</td>\n",
       "      <td>How can I help my girlfriend cope with her par...</td>\n",
       "      <td>What can I do to help my girlfriend through he...</td>\n",
       "      <td>1</td>\n",
       "      <td>59</td>\n",
       "      <td>64</td>\n",
       "      <td>11</td>\n",
       "      <td>12</td>\n",
       "    </tr>\n",
       "  </tbody>\n",
       "</table>\n",
       "</div>"
      ],
      "text/plain": [
       "            id    qid1    qid2  \\\n",
       "331535  331535  169053  295926   \n",
       "45407    45407   81383   81384   \n",
       "286200  286200  285024  406729   \n",
       "157195  157195  245856  245857   \n",
       "154346  154346  242075  242076   \n",
       "\n",
       "                                                question1  \\\n",
       "331535                         How can I learn Norwegian?   \n",
       "45407                  How are currency rates determined?   \n",
       "286200                              What is substitution?   \n",
       "157195      How can I make iPhone 4s faster with IOS 9.2?   \n",
       "154346  How can I help my girlfriend cope with her par...   \n",
       "\n",
       "                                                question2  is_duplicate  \\\n",
       "331535       What is the quickest way to learn Norwegian?             1   \n",
       "45407        Where and how are exchange rates determined?             1   \n",
       "286200             What is a substitute for caciocavallo?             0   \n",
       "157195  I have an iPhone 4S. How do I make it faster a...             1   \n",
       "154346  What can I do to help my girlfriend through he...             1   \n",
       "\n",
       "        q1_len  q2_len  q1_num_words  q2_num_words  \n",
       "331535      26      44             5             8  \n",
       "45407       34      44             5             7  \n",
       "286200      21      38             3             6  \n",
       "157195      45      73            10            16  \n",
       "154346      59      64            11            12  "
      ]
     },
     "execution_count": 12,
     "metadata": {},
     "output_type": "execute_result"
    }
   ],
   "source": [
    "\n",
    "\n",
    "# Now safely calculate word counts\n",
    "new_df['q1_num_words'] = new_df['question1'].apply(lambda row: len(row.split()))\n",
    "new_df['q2_num_words'] = new_df['question2'].apply(lambda row: len(row.split()))\n",
    "\n",
    "new_df.head()\n"
   ]
  },
  {
   "cell_type": "code",
   "execution_count": 13,
   "id": "193c460f",
   "metadata": {
    "id": "193c460f"
   },
   "outputs": [],
   "source": [
    "def common_words(row):\n",
    "    w1 = set(map(lambda word: word.lower().strip(), row['question1'].split(\" \")))\n",
    "    w2 = set(map(lambda word: word.lower().strip(), row['question2'].split(\" \")))\n",
    "    return len(w1 & w2)"
   ]
  },
  {
   "cell_type": "code",
   "execution_count": 14,
   "id": "47ea1118",
   "metadata": {
    "colab": {
     "base_uri": "https://localhost:8080/",
     "height": 206
    },
    "id": "47ea1118",
    "outputId": "659fd091-fc2c-4c96-8d7f-0f0172665fc6"
   },
   "outputs": [
    {
     "data": {
      "text/html": [
       "<div>\n",
       "<style scoped>\n",
       "    .dataframe tbody tr th:only-of-type {\n",
       "        vertical-align: middle;\n",
       "    }\n",
       "\n",
       "    .dataframe tbody tr th {\n",
       "        vertical-align: top;\n",
       "    }\n",
       "\n",
       "    .dataframe thead th {\n",
       "        text-align: right;\n",
       "    }\n",
       "</style>\n",
       "<table border=\"1\" class=\"dataframe\">\n",
       "  <thead>\n",
       "    <tr style=\"text-align: right;\">\n",
       "      <th></th>\n",
       "      <th>id</th>\n",
       "      <th>qid1</th>\n",
       "      <th>qid2</th>\n",
       "      <th>question1</th>\n",
       "      <th>question2</th>\n",
       "      <th>is_duplicate</th>\n",
       "      <th>q1_len</th>\n",
       "      <th>q2_len</th>\n",
       "      <th>q1_num_words</th>\n",
       "      <th>q2_num_words</th>\n",
       "      <th>word_common</th>\n",
       "    </tr>\n",
       "  </thead>\n",
       "  <tbody>\n",
       "    <tr>\n",
       "      <th>331535</th>\n",
       "      <td>331535</td>\n",
       "      <td>169053</td>\n",
       "      <td>295926</td>\n",
       "      <td>How can I learn Norwegian?</td>\n",
       "      <td>What is the quickest way to learn Norwegian?</td>\n",
       "      <td>1</td>\n",
       "      <td>26</td>\n",
       "      <td>44</td>\n",
       "      <td>5</td>\n",
       "      <td>8</td>\n",
       "      <td>2</td>\n",
       "    </tr>\n",
       "    <tr>\n",
       "      <th>45407</th>\n",
       "      <td>45407</td>\n",
       "      <td>81383</td>\n",
       "      <td>81384</td>\n",
       "      <td>How are currency rates determined?</td>\n",
       "      <td>Where and how are exchange rates determined?</td>\n",
       "      <td>1</td>\n",
       "      <td>34</td>\n",
       "      <td>44</td>\n",
       "      <td>5</td>\n",
       "      <td>7</td>\n",
       "      <td>4</td>\n",
       "    </tr>\n",
       "    <tr>\n",
       "      <th>286200</th>\n",
       "      <td>286200</td>\n",
       "      <td>285024</td>\n",
       "      <td>406729</td>\n",
       "      <td>What is substitution?</td>\n",
       "      <td>What is a substitute for caciocavallo?</td>\n",
       "      <td>0</td>\n",
       "      <td>21</td>\n",
       "      <td>38</td>\n",
       "      <td>3</td>\n",
       "      <td>6</td>\n",
       "      <td>2</td>\n",
       "    </tr>\n",
       "    <tr>\n",
       "      <th>157195</th>\n",
       "      <td>157195</td>\n",
       "      <td>245856</td>\n",
       "      <td>245857</td>\n",
       "      <td>How can I make iPhone 4s faster with IOS 9.2?</td>\n",
       "      <td>I have an iPhone 4S. How do I make it faster a...</td>\n",
       "      <td>1</td>\n",
       "      <td>45</td>\n",
       "      <td>73</td>\n",
       "      <td>10</td>\n",
       "      <td>16</td>\n",
       "      <td>5</td>\n",
       "    </tr>\n",
       "    <tr>\n",
       "      <th>154346</th>\n",
       "      <td>154346</td>\n",
       "      <td>242075</td>\n",
       "      <td>242076</td>\n",
       "      <td>How can I help my girlfriend cope with her par...</td>\n",
       "      <td>What can I do to help my girlfriend through he...</td>\n",
       "      <td>1</td>\n",
       "      <td>59</td>\n",
       "      <td>64</td>\n",
       "      <td>11</td>\n",
       "      <td>12</td>\n",
       "      <td>8</td>\n",
       "    </tr>\n",
       "  </tbody>\n",
       "</table>\n",
       "</div>"
      ],
      "text/plain": [
       "            id    qid1    qid2  \\\n",
       "331535  331535  169053  295926   \n",
       "45407    45407   81383   81384   \n",
       "286200  286200  285024  406729   \n",
       "157195  157195  245856  245857   \n",
       "154346  154346  242075  242076   \n",
       "\n",
       "                                                question1  \\\n",
       "331535                         How can I learn Norwegian?   \n",
       "45407                  How are currency rates determined?   \n",
       "286200                              What is substitution?   \n",
       "157195      How can I make iPhone 4s faster with IOS 9.2?   \n",
       "154346  How can I help my girlfriend cope with her par...   \n",
       "\n",
       "                                                question2  is_duplicate  \\\n",
       "331535       What is the quickest way to learn Norwegian?             1   \n",
       "45407        Where and how are exchange rates determined?             1   \n",
       "286200             What is a substitute for caciocavallo?             0   \n",
       "157195  I have an iPhone 4S. How do I make it faster a...             1   \n",
       "154346  What can I do to help my girlfriend through he...             1   \n",
       "\n",
       "        q1_len  q2_len  q1_num_words  q2_num_words  word_common  \n",
       "331535      26      44             5             8            2  \n",
       "45407       34      44             5             7            4  \n",
       "286200      21      38             3             6            2  \n",
       "157195      45      73            10            16            5  \n",
       "154346      59      64            11            12            8  "
      ]
     },
     "execution_count": 14,
     "metadata": {},
     "output_type": "execute_result"
    }
   ],
   "source": [
    "new_df['word_common'] = new_df.apply(common_words, axis=1)\n",
    "new_df.head()"
   ]
  },
  {
   "cell_type": "code",
   "execution_count": 15,
   "id": "87729813",
   "metadata": {
    "id": "87729813"
   },
   "outputs": [],
   "source": [
    "def total_words(row):\n",
    "    w1 = set(map(lambda word: word.lower().strip(), row['question1'].split(\" \")))\n",
    "    w2 = set(map(lambda word: word.lower().strip(), row['question2'].split(\" \")))\n",
    "    return (len(w1) + len(w2))"
   ]
  },
  {
   "cell_type": "code",
   "execution_count": 16,
   "id": "0f04346e",
   "metadata": {
    "colab": {
     "base_uri": "https://localhost:8080/",
     "height": 226
    },
    "id": "0f04346e",
    "outputId": "a6da9983-02c7-49b5-ddeb-488873a30151"
   },
   "outputs": [
    {
     "data": {
      "text/html": [
       "<div>\n",
       "<style scoped>\n",
       "    .dataframe tbody tr th:only-of-type {\n",
       "        vertical-align: middle;\n",
       "    }\n",
       "\n",
       "    .dataframe tbody tr th {\n",
       "        vertical-align: top;\n",
       "    }\n",
       "\n",
       "    .dataframe thead th {\n",
       "        text-align: right;\n",
       "    }\n",
       "</style>\n",
       "<table border=\"1\" class=\"dataframe\">\n",
       "  <thead>\n",
       "    <tr style=\"text-align: right;\">\n",
       "      <th></th>\n",
       "      <th>id</th>\n",
       "      <th>qid1</th>\n",
       "      <th>qid2</th>\n",
       "      <th>question1</th>\n",
       "      <th>question2</th>\n",
       "      <th>is_duplicate</th>\n",
       "      <th>q1_len</th>\n",
       "      <th>q2_len</th>\n",
       "      <th>q1_num_words</th>\n",
       "      <th>q2_num_words</th>\n",
       "      <th>word_common</th>\n",
       "      <th>word_total</th>\n",
       "    </tr>\n",
       "  </thead>\n",
       "  <tbody>\n",
       "    <tr>\n",
       "      <th>331535</th>\n",
       "      <td>331535</td>\n",
       "      <td>169053</td>\n",
       "      <td>295926</td>\n",
       "      <td>How can I learn Norwegian?</td>\n",
       "      <td>What is the quickest way to learn Norwegian?</td>\n",
       "      <td>1</td>\n",
       "      <td>26</td>\n",
       "      <td>44</td>\n",
       "      <td>5</td>\n",
       "      <td>8</td>\n",
       "      <td>2</td>\n",
       "      <td>13</td>\n",
       "    </tr>\n",
       "    <tr>\n",
       "      <th>45407</th>\n",
       "      <td>45407</td>\n",
       "      <td>81383</td>\n",
       "      <td>81384</td>\n",
       "      <td>How are currency rates determined?</td>\n",
       "      <td>Where and how are exchange rates determined?</td>\n",
       "      <td>1</td>\n",
       "      <td>34</td>\n",
       "      <td>44</td>\n",
       "      <td>5</td>\n",
       "      <td>7</td>\n",
       "      <td>4</td>\n",
       "      <td>12</td>\n",
       "    </tr>\n",
       "    <tr>\n",
       "      <th>286200</th>\n",
       "      <td>286200</td>\n",
       "      <td>285024</td>\n",
       "      <td>406729</td>\n",
       "      <td>What is substitution?</td>\n",
       "      <td>What is a substitute for caciocavallo?</td>\n",
       "      <td>0</td>\n",
       "      <td>21</td>\n",
       "      <td>38</td>\n",
       "      <td>3</td>\n",
       "      <td>6</td>\n",
       "      <td>2</td>\n",
       "      <td>9</td>\n",
       "    </tr>\n",
       "    <tr>\n",
       "      <th>157195</th>\n",
       "      <td>157195</td>\n",
       "      <td>245856</td>\n",
       "      <td>245857</td>\n",
       "      <td>How can I make iPhone 4s faster with IOS 9.2?</td>\n",
       "      <td>I have an iPhone 4S. How do I make it faster a...</td>\n",
       "      <td>1</td>\n",
       "      <td>45</td>\n",
       "      <td>73</td>\n",
       "      <td>10</td>\n",
       "      <td>16</td>\n",
       "      <td>5</td>\n",
       "      <td>25</td>\n",
       "    </tr>\n",
       "    <tr>\n",
       "      <th>154346</th>\n",
       "      <td>154346</td>\n",
       "      <td>242075</td>\n",
       "      <td>242076</td>\n",
       "      <td>How can I help my girlfriend cope with her par...</td>\n",
       "      <td>What can I do to help my girlfriend through he...</td>\n",
       "      <td>1</td>\n",
       "      <td>59</td>\n",
       "      <td>64</td>\n",
       "      <td>11</td>\n",
       "      <td>12</td>\n",
       "      <td>8</td>\n",
       "      <td>23</td>\n",
       "    </tr>\n",
       "  </tbody>\n",
       "</table>\n",
       "</div>"
      ],
      "text/plain": [
       "            id    qid1    qid2  \\\n",
       "331535  331535  169053  295926   \n",
       "45407    45407   81383   81384   \n",
       "286200  286200  285024  406729   \n",
       "157195  157195  245856  245857   \n",
       "154346  154346  242075  242076   \n",
       "\n",
       "                                                question1  \\\n",
       "331535                         How can I learn Norwegian?   \n",
       "45407                  How are currency rates determined?   \n",
       "286200                              What is substitution?   \n",
       "157195      How can I make iPhone 4s faster with IOS 9.2?   \n",
       "154346  How can I help my girlfriend cope with her par...   \n",
       "\n",
       "                                                question2  is_duplicate  \\\n",
       "331535       What is the quickest way to learn Norwegian?             1   \n",
       "45407        Where and how are exchange rates determined?             1   \n",
       "286200             What is a substitute for caciocavallo?             0   \n",
       "157195  I have an iPhone 4S. How do I make it faster a...             1   \n",
       "154346  What can I do to help my girlfriend through he...             1   \n",
       "\n",
       "        q1_len  q2_len  q1_num_words  q2_num_words  word_common  word_total  \n",
       "331535      26      44             5             8            2          13  \n",
       "45407       34      44             5             7            4          12  \n",
       "286200      21      38             3             6            2           9  \n",
       "157195      45      73            10            16            5          25  \n",
       "154346      59      64            11            12            8          23  "
      ]
     },
     "execution_count": 16,
     "metadata": {},
     "output_type": "execute_result"
    }
   ],
   "source": [
    "new_df['word_total'] = new_df.apply(total_words, axis=1)\n",
    "new_df.head()"
   ]
  },
  {
   "cell_type": "code",
   "execution_count": 17,
   "id": "677c7db3",
   "metadata": {
    "colab": {
     "base_uri": "https://localhost:8080/",
     "height": 313
    },
    "id": "677c7db3",
    "outputId": "8a6c8bcc-022e-41c5-e48f-7d43d9483c8c"
   },
   "outputs": [
    {
     "data": {
      "text/html": [
       "<div>\n",
       "<style scoped>\n",
       "    .dataframe tbody tr th:only-of-type {\n",
       "        vertical-align: middle;\n",
       "    }\n",
       "\n",
       "    .dataframe tbody tr th {\n",
       "        vertical-align: top;\n",
       "    }\n",
       "\n",
       "    .dataframe thead th {\n",
       "        text-align: right;\n",
       "    }\n",
       "</style>\n",
       "<table border=\"1\" class=\"dataframe\">\n",
       "  <thead>\n",
       "    <tr style=\"text-align: right;\">\n",
       "      <th></th>\n",
       "      <th>id</th>\n",
       "      <th>qid1</th>\n",
       "      <th>qid2</th>\n",
       "      <th>question1</th>\n",
       "      <th>question2</th>\n",
       "      <th>is_duplicate</th>\n",
       "      <th>q1_len</th>\n",
       "      <th>q2_len</th>\n",
       "      <th>q1_num_words</th>\n",
       "      <th>q2_num_words</th>\n",
       "      <th>word_common</th>\n",
       "      <th>word_total</th>\n",
       "      <th>word_share</th>\n",
       "    </tr>\n",
       "  </thead>\n",
       "  <tbody>\n",
       "    <tr>\n",
       "      <th>331535</th>\n",
       "      <td>331535</td>\n",
       "      <td>169053</td>\n",
       "      <td>295926</td>\n",
       "      <td>How can I learn Norwegian?</td>\n",
       "      <td>What is the quickest way to learn Norwegian?</td>\n",
       "      <td>1</td>\n",
       "      <td>26</td>\n",
       "      <td>44</td>\n",
       "      <td>5</td>\n",
       "      <td>8</td>\n",
       "      <td>2</td>\n",
       "      <td>13</td>\n",
       "      <td>0.15</td>\n",
       "    </tr>\n",
       "    <tr>\n",
       "      <th>45407</th>\n",
       "      <td>45407</td>\n",
       "      <td>81383</td>\n",
       "      <td>81384</td>\n",
       "      <td>How are currency rates determined?</td>\n",
       "      <td>Where and how are exchange rates determined?</td>\n",
       "      <td>1</td>\n",
       "      <td>34</td>\n",
       "      <td>44</td>\n",
       "      <td>5</td>\n",
       "      <td>7</td>\n",
       "      <td>4</td>\n",
       "      <td>12</td>\n",
       "      <td>0.33</td>\n",
       "    </tr>\n",
       "    <tr>\n",
       "      <th>286200</th>\n",
       "      <td>286200</td>\n",
       "      <td>285024</td>\n",
       "      <td>406729</td>\n",
       "      <td>What is substitution?</td>\n",
       "      <td>What is a substitute for caciocavallo?</td>\n",
       "      <td>0</td>\n",
       "      <td>21</td>\n",
       "      <td>38</td>\n",
       "      <td>3</td>\n",
       "      <td>6</td>\n",
       "      <td>2</td>\n",
       "      <td>9</td>\n",
       "      <td>0.22</td>\n",
       "    </tr>\n",
       "    <tr>\n",
       "      <th>157195</th>\n",
       "      <td>157195</td>\n",
       "      <td>245856</td>\n",
       "      <td>245857</td>\n",
       "      <td>How can I make iPhone 4s faster with IOS 9.2?</td>\n",
       "      <td>I have an iPhone 4S. How do I make it faster a...</td>\n",
       "      <td>1</td>\n",
       "      <td>45</td>\n",
       "      <td>73</td>\n",
       "      <td>10</td>\n",
       "      <td>16</td>\n",
       "      <td>5</td>\n",
       "      <td>25</td>\n",
       "      <td>0.20</td>\n",
       "    </tr>\n",
       "    <tr>\n",
       "      <th>154346</th>\n",
       "      <td>154346</td>\n",
       "      <td>242075</td>\n",
       "      <td>242076</td>\n",
       "      <td>How can I help my girlfriend cope with her par...</td>\n",
       "      <td>What can I do to help my girlfriend through he...</td>\n",
       "      <td>1</td>\n",
       "      <td>59</td>\n",
       "      <td>64</td>\n",
       "      <td>11</td>\n",
       "      <td>12</td>\n",
       "      <td>8</td>\n",
       "      <td>23</td>\n",
       "      <td>0.35</td>\n",
       "    </tr>\n",
       "  </tbody>\n",
       "</table>\n",
       "</div>"
      ],
      "text/plain": [
       "            id    qid1    qid2  \\\n",
       "331535  331535  169053  295926   \n",
       "45407    45407   81383   81384   \n",
       "286200  286200  285024  406729   \n",
       "157195  157195  245856  245857   \n",
       "154346  154346  242075  242076   \n",
       "\n",
       "                                                question1  \\\n",
       "331535                         How can I learn Norwegian?   \n",
       "45407                  How are currency rates determined?   \n",
       "286200                              What is substitution?   \n",
       "157195      How can I make iPhone 4s faster with IOS 9.2?   \n",
       "154346  How can I help my girlfriend cope with her par...   \n",
       "\n",
       "                                                question2  is_duplicate  \\\n",
       "331535       What is the quickest way to learn Norwegian?             1   \n",
       "45407        Where and how are exchange rates determined?             1   \n",
       "286200             What is a substitute for caciocavallo?             0   \n",
       "157195  I have an iPhone 4S. How do I make it faster a...             1   \n",
       "154346  What can I do to help my girlfriend through he...             1   \n",
       "\n",
       "        q1_len  q2_len  q1_num_words  q2_num_words  word_common  word_total  \\\n",
       "331535      26      44             5             8            2          13   \n",
       "45407       34      44             5             7            4          12   \n",
       "286200      21      38             3             6            2           9   \n",
       "157195      45      73            10            16            5          25   \n",
       "154346      59      64            11            12            8          23   \n",
       "\n",
       "        word_share  \n",
       "331535        0.15  \n",
       "45407         0.33  \n",
       "286200        0.22  \n",
       "157195        0.20  \n",
       "154346        0.35  "
      ]
     },
     "execution_count": 17,
     "metadata": {},
     "output_type": "execute_result"
    }
   ],
   "source": [
    "new_df['word_share'] = round(new_df['word_common']/new_df['word_total'],2)\n",
    "new_df.head()"
   ]
  },
  {
   "cell_type": "code",
   "execution_count": 18,
   "id": "3d2b3fc9-8dea-4a99-aea5-759799129134",
   "metadata": {},
   "outputs": [],
   "source": [
    "# Save preprocessed DataFrame to CSV\n",
    "new_df.to_csv('preprocessed_data(Basic).csv', index=False)"
   ]
  },
  {
   "cell_type": "code",
   "execution_count": 42,
   "id": "66786217",
   "metadata": {},
   "outputs": [
    {
     "data": {
      "text/html": [
       "<div>\n",
       "<style scoped>\n",
       "    .dataframe tbody tr th:only-of-type {\n",
       "        vertical-align: middle;\n",
       "    }\n",
       "\n",
       "    .dataframe tbody tr th {\n",
       "        vertical-align: top;\n",
       "    }\n",
       "\n",
       "    .dataframe thead th {\n",
       "        text-align: right;\n",
       "    }\n",
       "</style>\n",
       "<table border=\"1\" class=\"dataframe\">\n",
       "  <thead>\n",
       "    <tr style=\"text-align: right;\">\n",
       "      <th></th>\n",
       "      <th>id</th>\n",
       "      <th>qid1</th>\n",
       "      <th>qid2</th>\n",
       "      <th>question1</th>\n",
       "      <th>question2</th>\n",
       "      <th>is_duplicate</th>\n",
       "      <th>q1_len</th>\n",
       "      <th>q2_len</th>\n",
       "      <th>q1_num_words</th>\n",
       "      <th>q2_num_words</th>\n",
       "      <th>word_common</th>\n",
       "      <th>word_total</th>\n",
       "      <th>word_share</th>\n",
       "    </tr>\n",
       "  </thead>\n",
       "  <tbody>\n",
       "    <tr>\n",
       "      <th>331535</th>\n",
       "      <td>331535</td>\n",
       "      <td>169053</td>\n",
       "      <td>295926</td>\n",
       "      <td>How can I learn Norwegian?</td>\n",
       "      <td>What is the quickest way to learn Norwegian?</td>\n",
       "      <td>1</td>\n",
       "      <td>26</td>\n",
       "      <td>44</td>\n",
       "      <td>5</td>\n",
       "      <td>8</td>\n",
       "      <td>2</td>\n",
       "      <td>13</td>\n",
       "      <td>0.15</td>\n",
       "    </tr>\n",
       "    <tr>\n",
       "      <th>45407</th>\n",
       "      <td>45407</td>\n",
       "      <td>81383</td>\n",
       "      <td>81384</td>\n",
       "      <td>How are currency rates determined?</td>\n",
       "      <td>Where and how are exchange rates determined?</td>\n",
       "      <td>1</td>\n",
       "      <td>34</td>\n",
       "      <td>44</td>\n",
       "      <td>5</td>\n",
       "      <td>7</td>\n",
       "      <td>4</td>\n",
       "      <td>12</td>\n",
       "      <td>0.33</td>\n",
       "    </tr>\n",
       "    <tr>\n",
       "      <th>286200</th>\n",
       "      <td>286200</td>\n",
       "      <td>285024</td>\n",
       "      <td>406729</td>\n",
       "      <td>What is substitution?</td>\n",
       "      <td>What is a substitute for caciocavallo?</td>\n",
       "      <td>0</td>\n",
       "      <td>21</td>\n",
       "      <td>38</td>\n",
       "      <td>3</td>\n",
       "      <td>6</td>\n",
       "      <td>2</td>\n",
       "      <td>9</td>\n",
       "      <td>0.22</td>\n",
       "    </tr>\n",
       "    <tr>\n",
       "      <th>157195</th>\n",
       "      <td>157195</td>\n",
       "      <td>245856</td>\n",
       "      <td>245857</td>\n",
       "      <td>How can I make iPhone 4s faster with IOS 9.2?</td>\n",
       "      <td>I have an iPhone 4S. How do I make it faster a...</td>\n",
       "      <td>1</td>\n",
       "      <td>45</td>\n",
       "      <td>73</td>\n",
       "      <td>10</td>\n",
       "      <td>16</td>\n",
       "      <td>5</td>\n",
       "      <td>25</td>\n",
       "      <td>0.20</td>\n",
       "    </tr>\n",
       "    <tr>\n",
       "      <th>154346</th>\n",
       "      <td>154346</td>\n",
       "      <td>242075</td>\n",
       "      <td>242076</td>\n",
       "      <td>How can I help my girlfriend cope with her par...</td>\n",
       "      <td>What can I do to help my girlfriend through he...</td>\n",
       "      <td>1</td>\n",
       "      <td>59</td>\n",
       "      <td>64</td>\n",
       "      <td>11</td>\n",
       "      <td>12</td>\n",
       "      <td>8</td>\n",
       "      <td>23</td>\n",
       "      <td>0.35</td>\n",
       "    </tr>\n",
       "  </tbody>\n",
       "</table>\n",
       "</div>"
      ],
      "text/plain": [
       "            id    qid1    qid2  \\\n",
       "331535  331535  169053  295926   \n",
       "45407    45407   81383   81384   \n",
       "286200  286200  285024  406729   \n",
       "157195  157195  245856  245857   \n",
       "154346  154346  242075  242076   \n",
       "\n",
       "                                                question1  \\\n",
       "331535                         How can I learn Norwegian?   \n",
       "45407                  How are currency rates determined?   \n",
       "286200                              What is substitution?   \n",
       "157195      How can I make iPhone 4s faster with IOS 9.2?   \n",
       "154346  How can I help my girlfriend cope with her par...   \n",
       "\n",
       "                                                question2  is_duplicate  \\\n",
       "331535       What is the quickest way to learn Norwegian?             1   \n",
       "45407        Where and how are exchange rates determined?             1   \n",
       "286200             What is a substitute for caciocavallo?             0   \n",
       "157195  I have an iPhone 4S. How do I make it faster a...             1   \n",
       "154346  What can I do to help my girlfriend through he...             1   \n",
       "\n",
       "        q1_len  q2_len  q1_num_words  q2_num_words  word_common  word_total  \\\n",
       "331535      26      44             5             8            2          13   \n",
       "45407       34      44             5             7            4          12   \n",
       "286200      21      38             3             6            2           9   \n",
       "157195      45      73            10            16            5          25   \n",
       "154346      59      64            11            12            8          23   \n",
       "\n",
       "        word_share  \n",
       "331535        0.15  \n",
       "45407         0.33  \n",
       "286200        0.22  \n",
       "157195        0.20  \n",
       "154346        0.35  "
      ]
     },
     "execution_count": 42,
     "metadata": {},
     "output_type": "execute_result"
    }
   ],
   "source": [
    "new_df.head()\n"
   ]
  },
  {
   "cell_type": "code",
   "execution_count": 19,
   "id": "5aa336c7",
   "metadata": {
    "colab": {
     "base_uri": "https://localhost:8080/",
     "height": 459
    },
    "id": "5aa336c7",
    "outputId": "efcdc2dd-f976-492e-ed9d-c76b5f48cf4d"
   },
   "outputs": [
    {
     "name": "stdout",
     "output_type": "stream",
     "text": [
      "minimum characters 1\n",
      "maximum characters 391\n",
      "average num of characters 59\n"
     ]
    },
    {
     "data": {
      "image/png": "[encoded data removed]",
      "text/plain": [
       "<Figure size 400x400 with 1 Axes>"
      ]
     },
     "metadata": {},
     "output_type": "display_data"
    }
   ],
   "source": [
    "# Analysis of features\n",
    "sns.displot(new_df, x='q1_len', height=4, aspect=1)\n",
    "print('minimum characters',new_df['q1_len'].min())\n",
    "print('maximum characters',new_df['q1_len'].max())\n",
    "print('average num of characters',int(new_df['q1_len'].mean()))\n"
   ]
  },
  {
   "cell_type": "code",
   "execution_count": 20,
   "id": "40bbfcc2",
   "metadata": {
    "colab": {
     "base_uri": "https://localhost:8080/",
     "height": 559
    },
    "id": "40bbfcc2",
    "outputId": "6ea104e7-e5a8-40ad-e85a-d601d58aa9c7"
   },
   "outputs": [
    {
     "name": "stdout",
     "output_type": "stream",
     "text": [
      "minimum characters 1\n",
      "maximum characters 1169\n",
      "average num of characters 60\n"
     ]
    },
    {
     "data": {
      "image/png": "[encoded data removed]",
      "text/plain": [
       "<Figure size 500x500 with 1 Axes>"
      ]
     },
     "metadata": {},
     "output_type": "display_data"
    }
   ],
   "source": [
    "sns.displot(new_df['q2_len'])\n",
    "print('minimum characters',new_df['q2_len'].min())\n",
    "print('maximum characters',new_df['q2_len'].max())\n",
    "print('average num of characters',int(new_df['q2_len'].mean()))"
   ]
  },
  {
   "cell_type": "code",
   "execution_count": 21,
   "id": "e3eb90a4",
   "metadata": {
    "colab": {
     "base_uri": "https://localhost:8080/",
     "height": 578
    },
    "id": "e3eb90a4",
    "outputId": "b7eb999d-2dd8-4254-ab31-5bd471c87d60"
   },
   "outputs": [
    {
     "name": "stdout",
     "output_type": "stream",
     "text": [
      "minimum words 1\n",
      "maximum words 73\n",
      "average num of words 10\n"
     ]
    },
    {
     "data": {
      "image/png": "[encoded data removed]",
      "text/plain": [
       "<Figure size 500x500 with 1 Axes>"
      ]
     },
     "metadata": {},
     "output_type": "display_data"
    }
   ],
   "source": [
    "\n",
    "sns.displot(new_df['q1_num_words'])\n",
    "print('minimum words',new_df['q1_num_words'].min())\n",
    "print('maximum words',new_df['q1_num_words'].max())\n",
    "print('average num of words',int(new_df['q1_num_words'].mean()))"
   ]
  },
  {
   "cell_type": "code",
   "execution_count": 22,
   "id": "ca7b45ec",
   "metadata": {
    "colab": {
     "base_uri": "https://localhost:8080/",
     "height": 578
    },
    "id": "ca7b45ec",
    "outputId": "c6ce0bc6-2d08-4cd8-8864-18e5b2301840"
   },
   "outputs": [
    {
     "name": "stdout",
     "output_type": "stream",
     "text": [
      "minimum words 1\n",
      "maximum words 237\n",
      "average num of words 11\n"
     ]
    },
    {
     "data": {
      "image/png": "[encoded data removed]",
      "text/plain": [
       "<Figure size 500x500 with 1 Axes>"
      ]
     },
     "metadata": {},
     "output_type": "display_data"
    }
   ],
   "source": [
    "sns.displot(new_df['q2_num_words'])\n",
    "print('minimum words',new_df['q2_num_words'].min())\n",
    "print('maximum words',new_df['q2_num_words'].max())\n",
    "print('average num of words',int(new_df['q2_num_words'].mean()))"
   ]
  },
  {
   "cell_type": "code",
   "execution_count": 23,
   "id": "01f7afe3",
   "metadata": {
    "colab": {
     "base_uri": "https://localhost:8080/",
     "height": 470
    },
    "id": "01f7afe3",
    "outputId": "25acd2e3-fa52-4714-db54-6f88fc739de1"
   },
   "outputs": [
    {
     "data": {
      "image/png": "[encoded data removed]",
      "text/plain": [
       "<Figure size 640x480 with 1 Axes>"
      ]
     },
     "metadata": {},
     "output_type": "display_data"
    }
   ],
   "source": [
    "# common words\n",
    "sns.distplot(new_df[new_df['is_duplicate'] == 0]['word_common'],label='non duplicate')\n",
    "sns.distplot(new_df[new_df['is_duplicate'] == 1]['word_common'],label='duplicate')\n",
    "plt.legend()\n",
    "plt.show()"
   ]
  },
  {
   "cell_type": "code",
   "execution_count": 24,
   "id": "85be5cf5",
   "metadata": {
    "colab": {
     "base_uri": "https://localhost:8080/",
     "height": 450
    },
    "id": "85be5cf5",
    "outputId": "ef713ef5-7f31-4f14-babe-7be4fa44a904"
   },
   "outputs": [
    {
     "data": {
      "image/png": "[encoded data removed]",
      "text/plain": [
       "<Figure size 640x480 with 1 Axes>"
      ]
     },
     "metadata": {},
     "output_type": "display_data"
    }
   ],
   "source": [
    "\n",
    "\n",
    "# total words\n",
    "sns.distplot(new_df[new_df['is_duplicate'] == 0]['word_total'],label='non duplicate')\n",
    "sns.distplot(new_df[new_df['is_duplicate'] == 1]['word_total'],label='duplicate')\n",
    "plt.legend()\n",
    "plt.show()"
   ]
  },
  {
   "cell_type": "code",
   "execution_count": 25,
   "id": "94d5e0ea",
   "metadata": {
    "colab": {
     "base_uri": "https://localhost:8080/",
     "height": 450
    },
    "id": "94d5e0ea",
    "outputId": "8bd7ce20-5520-4624-96de-26237b448e91"
   },
   "outputs": [
    {
     "data": {
      "image/png": "[encoded data removed]",
      "text/plain": [
       "<Figure size 640x480 with 1 Axes>"
      ]
     },
     "metadata": {},
     "output_type": "display_data"
    }
   ],
   "source": [
    "# word share\n",
    "sns.distplot(new_df[new_df['is_duplicate'] == 0]['word_share'],label='non duplicate')\n",
    "sns.distplot(new_df[new_df['is_duplicate'] == 1]['word_share'],label='duplicate')\n",
    "plt.legend()\n",
    "plt.show()"
   ]
  },
  {
   "cell_type": "code",
   "execution_count": 26,
   "id": "e7690b8c",
   "metadata": {
    "colab": {
     "base_uri": "https://localhost:8080/",
     "height": 226
    },
    "id": "e7690b8c",
    "outputId": "fc443bb8-6af2-4f3c-ae8d-5b1c6a1d5d92"
   },
   "outputs": [
    {
     "data": {
      "text/html": [
       "<div>\n",
       "<style scoped>\n",
       "    .dataframe tbody tr th:only-of-type {\n",
       "        vertical-align: middle;\n",
       "    }\n",
       "\n",
       "    .dataframe tbody tr th {\n",
       "        vertical-align: top;\n",
       "    }\n",
       "\n",
       "    .dataframe thead th {\n",
       "        text-align: right;\n",
       "    }\n",
       "</style>\n",
       "<table border=\"1\" class=\"dataframe\">\n",
       "  <thead>\n",
       "    <tr style=\"text-align: right;\">\n",
       "      <th></th>\n",
       "      <th>question1</th>\n",
       "      <th>question2</th>\n",
       "    </tr>\n",
       "  </thead>\n",
       "  <tbody>\n",
       "    <tr>\n",
       "      <th>331535</th>\n",
       "      <td>How can I learn Norwegian?</td>\n",
       "      <td>What is the quickest way to learn Norwegian?</td>\n",
       "    </tr>\n",
       "    <tr>\n",
       "      <th>45407</th>\n",
       "      <td>How are currency rates determined?</td>\n",
       "      <td>Where and how are exchange rates determined?</td>\n",
       "    </tr>\n",
       "    <tr>\n",
       "      <th>286200</th>\n",
       "      <td>What is substitution?</td>\n",
       "      <td>What is a substitute for caciocavallo?</td>\n",
       "    </tr>\n",
       "    <tr>\n",
       "      <th>157195</th>\n",
       "      <td>How can I make iPhone 4s faster with IOS 9.2?</td>\n",
       "      <td>I have an iPhone 4S. How do I make it faster a...</td>\n",
       "    </tr>\n",
       "    <tr>\n",
       "      <th>154346</th>\n",
       "      <td>How can I help my girlfriend cope with her par...</td>\n",
       "      <td>What can I do to help my girlfriend through he...</td>\n",
       "    </tr>\n",
       "  </tbody>\n",
       "</table>\n",
       "</div>"
      ],
      "text/plain": [
       "                                                question1  \\\n",
       "331535                         How can I learn Norwegian?   \n",
       "45407                  How are currency rates determined?   \n",
       "286200                              What is substitution?   \n",
       "157195      How can I make iPhone 4s faster with IOS 9.2?   \n",
       "154346  How can I help my girlfriend cope with her par...   \n",
       "\n",
       "                                                question2  \n",
       "331535       What is the quickest way to learn Norwegian?  \n",
       "45407        Where and how are exchange rates determined?  \n",
       "286200             What is a substitute for caciocavallo?  \n",
       "157195  I have an iPhone 4S. How do I make it faster a...  \n",
       "154346  What can I do to help my girlfriend through he...  "
      ]
     },
     "execution_count": 26,
     "metadata": {},
     "output_type": "execute_result"
    }
   ],
   "source": [
    "ques_df = new_df[['question1','question2']]\n",
    "ques_df.head()"
   ]
  },
  {
   "cell_type": "code",
   "execution_count": null,
   "id": "czcDMDR_a16k",
   "metadata": {
    "id": "czcDMDR_a16k"
   },
   "outputs": [],
   "source": []
  },
  {
   "cell_type": "code",
   "execution_count": 27,
   "id": "b9ae4a4c",
   "metadata": {
    "colab": {
     "base_uri": "https://localhost:8080/",
     "height": 244
    },
    "id": "b9ae4a4c",
    "outputId": "9121bb78-f8cd-417d-cded-9d17affd6c0c"
   },
   "outputs": [
    {
     "name": "stdout",
     "output_type": "stream",
     "text": [
      "(90000, 8)\n"
     ]
    },
    {
     "data": {
      "text/html": [
       "<div>\n",
       "<style scoped>\n",
       "    .dataframe tbody tr th:only-of-type {\n",
       "        vertical-align: middle;\n",
       "    }\n",
       "\n",
       "    .dataframe tbody tr th {\n",
       "        vertical-align: top;\n",
       "    }\n",
       "\n",
       "    .dataframe thead th {\n",
       "        text-align: right;\n",
       "    }\n",
       "</style>\n",
       "<table border=\"1\" class=\"dataframe\">\n",
       "  <thead>\n",
       "    <tr style=\"text-align: right;\">\n",
       "      <th></th>\n",
       "      <th>is_duplicate</th>\n",
       "      <th>q1_len</th>\n",
       "      <th>q2_len</th>\n",
       "      <th>q1_num_words</th>\n",
       "      <th>q2_num_words</th>\n",
       "      <th>word_common</th>\n",
       "      <th>word_total</th>\n",
       "      <th>word_share</th>\n",
       "    </tr>\n",
       "  </thead>\n",
       "  <tbody>\n",
       "    <tr>\n",
       "      <th>331535</th>\n",
       "      <td>1</td>\n",
       "      <td>26</td>\n",
       "      <td>44</td>\n",
       "      <td>5</td>\n",
       "      <td>8</td>\n",
       "      <td>2</td>\n",
       "      <td>13</td>\n",
       "      <td>0.15</td>\n",
       "    </tr>\n",
       "    <tr>\n",
       "      <th>45407</th>\n",
       "      <td>1</td>\n",
       "      <td>34</td>\n",
       "      <td>44</td>\n",
       "      <td>5</td>\n",
       "      <td>7</td>\n",
       "      <td>4</td>\n",
       "      <td>12</td>\n",
       "      <td>0.33</td>\n",
       "    </tr>\n",
       "    <tr>\n",
       "      <th>286200</th>\n",
       "      <td>0</td>\n",
       "      <td>21</td>\n",
       "      <td>38</td>\n",
       "      <td>3</td>\n",
       "      <td>6</td>\n",
       "      <td>2</td>\n",
       "      <td>9</td>\n",
       "      <td>0.22</td>\n",
       "    </tr>\n",
       "    <tr>\n",
       "      <th>157195</th>\n",
       "      <td>1</td>\n",
       "      <td>45</td>\n",
       "      <td>73</td>\n",
       "      <td>10</td>\n",
       "      <td>16</td>\n",
       "      <td>5</td>\n",
       "      <td>25</td>\n",
       "      <td>0.20</td>\n",
       "    </tr>\n",
       "    <tr>\n",
       "      <th>154346</th>\n",
       "      <td>1</td>\n",
       "      <td>59</td>\n",
       "      <td>64</td>\n",
       "      <td>11</td>\n",
       "      <td>12</td>\n",
       "      <td>8</td>\n",
       "      <td>23</td>\n",
       "      <td>0.35</td>\n",
       "    </tr>\n",
       "  </tbody>\n",
       "</table>\n",
       "</div>"
      ],
      "text/plain": [
       "        is_duplicate  q1_len  q2_len  q1_num_words  q2_num_words  word_common  \\\n",
       "331535             1      26      44             5             8            2   \n",
       "45407              1      34      44             5             7            4   \n",
       "286200             0      21      38             3             6            2   \n",
       "157195             1      45      73            10            16            5   \n",
       "154346             1      59      64            11            12            8   \n",
       "\n",
       "        word_total  word_share  \n",
       "331535          13        0.15  \n",
       "45407           12        0.33  \n",
       "286200           9        0.22  \n",
       "157195          25        0.20  \n",
       "154346          23        0.35  "
      ]
     },
     "execution_count": 27,
     "metadata": {},
     "output_type": "execute_result"
    }
   ],
   "source": [
    "final_df = new_df.drop(columns=['id','qid1','qid2','question1','question2'])\n",
    "print(final_df.shape)\n",
    "final_df.head()"
   ]
  },
  {
   "cell_type": "code",
   "execution_count": null,
   "id": "3MOfTwZrUlAo",
   "metadata": {
    "id": "3MOfTwZrUlAo"
   },
   "outputs": [],
   "source": []
  },
  {
   "cell_type": "code",
   "execution_count": 28,
   "id": "e6338858",
   "metadata": {
    "id": "e6338858"
   },
   "outputs": [],
   "source": [
    "\n",
    "# merge texts\n",
    "ques_df = new_df[['question1','question2']]\n",
    "questions = list(ques_df['question1']) + list(ques_df['question2'])\n"
   ]
  },
  {
   "cell_type": "code",
   "execution_count": 29,
   "id": "e038ba0c",
   "metadata": {},
   "outputs": [
    {
     "name": "stdout",
     "output_type": "stream",
     "text": [
      "180000\n"
     ]
    }
   ],
   "source": [
    "shape = (len(questions))\n",
    "print(shape)\n"
   ]
  },
  {
   "cell_type": "code",
   "execution_count": null,
   "id": "791f2761",
   "metadata": {},
   "outputs": [],
   "source": []
  },
  {
   "cell_type": "code",
   "execution_count": 30,
   "id": "3235a840-e1fc-46e0-af41-2e774ad51e45",
   "metadata": {},
   "outputs": [],
   "source": [
    "from sklearn.feature_extraction.text import TfidfVectorizer\n",
    "tfidf = TfidfVectorizer(max_features=1000)\n",
    "tfidf_matrix = tfidf.fit_transform(questions) #[90k, 1k]\n",
    "# Split into q1 and q2 sparse matrices \n",
    "q1_arr = tfidf_matrix[:len(ques_df)] #[0:90000, 1000]\n",
    "q2_arr = tfidf_matrix[len(ques_df):]#[90000:180000, 1000]"
   ]
  },
  {
   "cell_type": "code",
   "execution_count": 31,
   "id": "b0026cb4",
   "metadata": {},
   "outputs": [
    {
     "name": "stdout",
     "output_type": "stream",
     "text": [
      "(90000, 1000)\n",
      "(90000, 1000)\n"
     ]
    }
   ],
   "source": [
    "\n",
    "print(q1_arr.shape) \n",
    "print(q2_arr.shape)"
   ]
  },
  {
   "cell_type": "code",
   "execution_count": 32,
   "id": "c7be6cec",
   "metadata": {
    "id": "c7be6cec"
   },
   "outputs": [
    {
     "name": "stdout",
     "output_type": "stream",
     "text": [
      "Shape after TF-IDF transformation: (90000, 2000)\n"
     ]
    }
   ],
   "source": [
    "# Convert to DataFrames\n",
    "temp_df1 = pd.DataFrame.sparse.from_spmatrix(q1_arr, index=ques_df.index)\n",
    "temp_df2 = pd.DataFrame.sparse.from_spmatrix(q2_arr, index=ques_df.index)\n",
    "\n",
    "# Concatenate q1 and q2 features\n",
    "temp_df = pd.concat([temp_df1, temp_df2], axis=1)\n",
    "\n",
    "print(\"Shape after TF-IDF transformation:\", temp_df.shape)"
   ]
  },
  {
   "cell_type": "code",
   "execution_count": 33,
   "id": "4b39acb7",
   "metadata": {
    "id": "4b39acb7"
   },
   "outputs": [
    {
     "name": "stdout",
     "output_type": "stream",
     "text": [
      "Final shape: (90000, 2008)\n"
     ]
    },
    {
     "data": {
      "text/html": [
       "<div>\n",
       "<style scoped>\n",
       "    .dataframe tbody tr th:only-of-type {\n",
       "        vertical-align: middle;\n",
       "    }\n",
       "\n",
       "    .dataframe tbody tr th {\n",
       "        vertical-align: top;\n",
       "    }\n",
       "\n",
       "    .dataframe thead th {\n",
       "        text-align: right;\n",
       "    }\n",
       "</style>\n",
       "<table border=\"1\" class=\"dataframe\">\n",
       "  <thead>\n",
       "    <tr style=\"text-align: right;\">\n",
       "      <th></th>\n",
       "      <th>is_duplicate</th>\n",
       "      <th>q1_len</th>\n",
       "      <th>q2_len</th>\n",
       "      <th>q1_num_words</th>\n",
       "      <th>q2_num_words</th>\n",
       "      <th>word_common</th>\n",
       "      <th>word_total</th>\n",
       "      <th>word_share</th>\n",
       "    </tr>\n",
       "  </thead>\n",
       "  <tbody>\n",
       "    <tr>\n",
       "      <th>331535</th>\n",
       "      <td>1</td>\n",
       "      <td>26</td>\n",
       "      <td>44</td>\n",
       "      <td>5</td>\n",
       "      <td>8</td>\n",
       "      <td>2</td>\n",
       "      <td>13</td>\n",
       "      <td>0.15</td>\n",
       "    </tr>\n",
       "    <tr>\n",
       "      <th>45407</th>\n",
       "      <td>1</td>\n",
       "      <td>34</td>\n",
       "      <td>44</td>\n",
       "      <td>5</td>\n",
       "      <td>7</td>\n",
       "      <td>4</td>\n",
       "      <td>12</td>\n",
       "      <td>0.33</td>\n",
       "    </tr>\n",
       "    <tr>\n",
       "      <th>286200</th>\n",
       "      <td>0</td>\n",
       "      <td>21</td>\n",
       "      <td>38</td>\n",
       "      <td>3</td>\n",
       "      <td>6</td>\n",
       "      <td>2</td>\n",
       "      <td>9</td>\n",
       "      <td>0.22</td>\n",
       "    </tr>\n",
       "    <tr>\n",
       "      <th>157195</th>\n",
       "      <td>1</td>\n",
       "      <td>45</td>\n",
       "      <td>73</td>\n",
       "      <td>10</td>\n",
       "      <td>16</td>\n",
       "      <td>5</td>\n",
       "      <td>25</td>\n",
       "      <td>0.20</td>\n",
       "    </tr>\n",
       "    <tr>\n",
       "      <th>154346</th>\n",
       "      <td>1</td>\n",
       "      <td>59</td>\n",
       "      <td>64</td>\n",
       "      <td>11</td>\n",
       "      <td>12</td>\n",
       "      <td>8</td>\n",
       "      <td>23</td>\n",
       "      <td>0.35</td>\n",
       "    </tr>\n",
       "  </tbody>\n",
       "</table>\n",
       "</div>"
      ],
      "text/plain": [
       "        is_duplicate  q1_len  q2_len  q1_num_words  q2_num_words  word_common  \\\n",
       "331535             1      26      44             5             8            2   \n",
       "45407              1      34      44             5             7            4   \n",
       "286200             0      21      38             3             6            2   \n",
       "157195             1      45      73            10            16            5   \n",
       "154346             1      59      64            11            12            8   \n",
       "\n",
       "        word_total  word_share  \n",
       "331535          13        0.15  \n",
       "45407           12        0.33  \n",
       "286200           9        0.22  \n",
       "157195          25        0.20  \n",
       "154346          23        0.35  "
      ]
     },
     "execution_count": 33,
     "metadata": {},
     "output_type": "execute_result"
    }
   ],
   "source": [
    "finall_df = pd.concat([final_df, temp_df], axis=1)\n",
    "print(\"Final shape:\", finall_df.shape)\n",
    "final_df.head()"
   ]
  },
  {
   "cell_type": "code",
   "execution_count": null,
   "id": "4c0a3ae7",
   "metadata": {},
   "outputs": [],
   "source": []
  },
  {
   "cell_type": "code",
   "execution_count": 34,
   "id": "709e8dda",
   "metadata": {},
   "outputs": [],
   "source": [
    "from sklearn.model_selection import train_test_split\n",
    "X_train,X_test,y_train,y_test = train_test_split(finall_df.iloc[:,1:].values,finall_df.iloc[:,0].values,test_size=0.2,random_state=1)"
   ]
  },
  {
   "cell_type": "code",
   "execution_count": 35,
   "id": "41cc0122",
   "metadata": {},
   "outputs": [
    {
     "name": "stdout",
     "output_type": "stream",
     "text": [
      "Explained Variance Ratio: [0.00538558 0.00473189 0.00396199 ... 0.0001984  0.00019812 0.00019807]\n",
      "Total Variance Captured: 0.95018924832241\n",
      "Number of components selected: 1640\n"
     ]
    }
   ],
   "source": [
    "from sklearn.decomposition import PCA\n",
    "from sklearn.preprocessing import StandardScaler\n",
    "scaler = StandardScaler()\n",
    "X_train_scaled = scaler.fit_transform(X_train)\n",
    "X_test_scaled = scaler.transform(X_test)\n",
    "pca = PCA(n_components=0.95)\n",
    "X_train_pca = pca.fit_transform(X_train_scaled)\n",
    "X_test_pca = pca.transform(X_test_scaled)\n",
    "# Explained variance\n",
    "print(\"Explained Variance Ratio:\", pca.explained_variance_ratio_)\n",
    "print(\"Total Variance Captured:\", sum(pca.explained_variance_ratio_))\n",
    "print(\"Number of components selected:\", pca.n_components_)\n",
    "\n"
   ]
  },
  {
   "cell_type": "code",
   "execution_count": 36,
   "id": "08a90a4b",
   "metadata": {},
   "outputs": [
    {
     "data": {
      "image/png": "[encoded data removed]",
      "text/plain": [
       "<Figure size 1000x600 with 1 Axes>"
      ]
     },
     "metadata": {},
     "output_type": "display_data"
    }
   ],
   "source": [
    "import matplotlib.pyplot as plt\n",
    "import numpy as np\n",
    "\n",
    "plt.figure(figsize=(10,6))\n",
    "plt.plot(np.cumsum(pca.explained_variance_ratio_))\n",
    "plt.xlabel('Number of Components')\n",
    "plt.ylabel('Cumulative Explained Variance')\n",
    "plt.title('Explained Variance by PCA Components')\n",
    "plt.grid(True)\n",
    "plt.show()\n"
   ]
  },
  {
   "cell_type": "code",
   "execution_count": 37,
   "id": "ffa76db8",
   "metadata": {},
   "outputs": [
    {
     "name": "stdout",
     "output_type": "stream",
     "text": [
      "Original shape: (72000, 2007)\n",
      "Reduced shape: (72000, 1640)\n"
     ]
    }
   ],
   "source": [
    "print(\"Original shape:\", X_train.shape)\n",
    "print(\"Reduced shape:\", X_train_pca.shape)\n"
   ]
  },
  {
   "cell_type": "code",
   "execution_count": null,
   "id": "f48cf61b",
   "metadata": {},
   "outputs": [],
   "source": []
  },
  {
   "cell_type": "code",
   "execution_count": 39,
   "id": "36545ab1",
   "metadata": {
    "id": "36545ab1"
   },
   "outputs": [
    {
     "name": "stdout",
     "output_type": "stream",
     "text": [
      "Accuracy: 0.7407222222222222\n",
      "\n",
      "Classification Report:\n",
      "               precision    recall  f1-score   support\n",
      "\n",
      "           0       0.74      0.92      0.82     11387\n",
      "           1       0.75      0.44      0.55      6613\n",
      "\n",
      "    accuracy                           0.74     18000\n",
      "   macro avg       0.74      0.68      0.69     18000\n",
      "weighted avg       0.74      0.74      0.72     18000\n",
      "\n"
     ]
    }
   ],
   "source": [
    "from sklearn.ensemble import RandomForestClassifier\n",
    "from sklearn.metrics import accuracy_score, classification_report\n",
    "\n",
    "# Initialize the model\n",
    "rf = RandomForestClassifier(n_estimators=100, random_state=42)\n",
    "\n",
    "# Fit the model on training data\n",
    "rf.fit(X_train_pca, y_train)\n",
    "\n",
    "# Predict on test data\n",
    "y_pred = rf.predict(X_test_pca)\n",
    "\n",
    "# Evaluate the model\n",
    "print(\"Accuracy:\", accuracy_score(y_test, y_pred))\n",
    "print(\"\\nClassification Report:\\n\", classification_report(y_test, y_pred))\n"
   ]
  },
  {
   "cell_type": "code",
   "execution_count": 40,
   "id": "6faa5195",
   "metadata": {},
   "outputs": [
    {
     "name": "stdout",
     "output_type": "stream",
     "text": [
      "Random Forest Log Loss: 0.5296371360101223\n"
     ]
    }
   ],
   "source": [
    "from sklearn.metrics import log_loss\n",
    "\n",
    "# Predict probabilities for log loss\n",
    "y_proba_rf = rf.predict_proba(X_test_pca)\n",
    "\n",
    "# Calculate log loss\n",
    "loss_rf = log_loss(y_test, y_proba_rf)\n",
    "print(\"Random Forest Log Loss:\", loss_rf)\n"
   ]
  },
  {
   "cell_type": "code",
   "execution_count": null,
   "id": "16b13c21",
   "metadata": {
    "id": "16b13c21"
   },
   "outputs": [
    {
     "name": "stdout",
     "output_type": "stream",
     "text": [
      "XGBoost Accuracy: 0.7255555555555555\n",
      "              precision    recall  f1-score   support\n",
      "\n",
      "           0       0.72      0.92      0.81     11369\n",
      "           1       0.73      0.40      0.52      6631\n",
      "\n",
      "    accuracy                           0.73     18000\n",
      "   macro avg       0.73      0.66      0.66     18000\n",
      "weighted avg       0.73      0.73      0.70     18000\n",
      "\n"
     ]
    }
   ],
   "source": [
    "from xgboost import XGBClassifier\n",
    "xgb = XGBClassifier(\n",
    "    n_estimators=500,\n",
    "    max_depth=4,\n",
    "    learning_rate=0.05,\n",
    "    subsample=0.8,\n",
    "    colsample_bytree=0.8,\n",
    "    random_state=42,\n",
    "    n_jobs=-1\n",
    ")\n",
    "xgb.fit(X_train, y_train)\n",
    "y_pred_xgb = xgb.predict(X_test)\n",
    "\n",
    "print(\"XGBoost Accuracy:\", accuracy_score(y_test, y_pred_xgb))\n",
    "print(classification_report(y_test, y_pred_xgb))\n"
   ]
  },
  {
   "cell_type": "code",
   "execution_count": null,
   "id": "9465d778-6743-4000-aaa0-5f53da0602e7",
   "metadata": {},
   "outputs": [
    {
     "ename": "NameError",
     "evalue": "name 'y_pred_rf' is not defined",
     "output_type": "error",
     "traceback": [
      "\u001b[31m---------------------------------------------------------------------------\u001b[39m",
      "\u001b[31mNameError\u001b[39m                                 Traceback (most recent call last)",
      "\u001b[36mCell\u001b[39m\u001b[36m \u001b[39m\u001b[32mIn[37]\u001b[39m\u001b[32m, line 1\u001b[39m\n\u001b[32m----> \u001b[39m\u001b[32m1\u001b[39m \u001b[38;5;28mprint\u001b[39m(\u001b[33m\"\u001b[39m\u001b[33mRandom Forest Accuracy:\u001b[39m\u001b[33m\"\u001b[39m, accuracy_score(y_test, y_pred_rf))\n\u001b[32m      2\u001b[39m \u001b[38;5;28mprint\u001b[39m(\u001b[33m\"\u001b[39m\u001b[33mXGBoost Accuracy:\u001b[39m\u001b[33m\"\u001b[39m, accuracy_score(y_test, y_pred_xgb))\n",
      "\u001b[31mNameError\u001b[39m: name 'y_pred_rf' is not defined"
     ]
    }
   ],
   "source": [
    "from sklearn.metrics import log_loss\n",
    "\n",
    "# Predict probabilities (needed for log loss)\n",
    "y_proba_xgb = xgb.predict_proba(X_test_pca)\n",
    "\n",
    "# Calculate log loss\n",
    "loss = log_loss(y_test, y_proba_xgb)\n",
    "print(\"Log Loss:\", loss)\n"
   ]
  },
  {
   "cell_type": "code",
   "execution_count": null,
   "id": "da900ce6-e459-4c9e-b732-5e1333562314",
   "metadata": {},
   "outputs": [
    {
     "name": "stdout",
     "output_type": "stream",
     "text": [
      "Random Forest Log Loss: 0.4939133404787519\n",
      "Random Forest ROC-AUC: 0.826714226415218\n"
     ]
    }
   ],
   "source": [
    "from sklearn.metrics import log_loss, roc_auc_score, roc_curve\n",
    "# Predicted probabilities (needed for log loss & AUC)\n",
    "y_proba_rf = rf.predict_proba(X_test)[:,1]\n",
    "\n",
    "# Metrics\n",
    "rf_logloss = log_loss(y_test, y_proba_rf)\n",
    "rf_auc = roc_auc_score(y_test, y_proba_rf)\n",
    "\n",
    "print(\"Random Forest Log Loss:\", rf_logloss)\n",
    "print(\"Random Forest ROC-AUC:\", rf_auc)\n"
   ]
  },
  {
   "cell_type": "code",
   "execution_count": null,
   "id": "7916b6a0-793f-4ad5-a6d3-f85217cc4f5c",
   "metadata": {},
   "outputs": [
    {
     "name": "stdout",
     "output_type": "stream",
     "text": [
      "XGBoost Log Loss: 0.5427665470716898\n",
      "XGBoost ROC-AUC: 0.786765130646602\n"
     ]
    }
   ],
   "source": [
    "y_proba_xgb = xgb.predict_proba(X_test)[:,1]\n",
    "\n",
    "xgb_logloss = log_loss(y_test, y_proba_xgb)\n",
    "xgb_auc = roc_auc_score(y_test, y_proba_xgb)\n",
    "\n",
    "print(\"XGBoost Log Loss:\", xgb_logloss)\n",
    "print(\"XGBoost ROC-AUC:\", xgb_auc)\n"
   ]
  },
  {
   "cell_type": "code",
   "execution_count": null,
   "id": "311fb854-9105-4f22-b80a-56cde35645d4",
   "metadata": {},
   "outputs": [
    {
     "data": {
      "image/png": "[encoded data removed]",
      "text/plain": [
       "<Figure size 700x500 with 1 Axes>"
      ]
     },
     "metadata": {},
     "output_type": "display_data"
    }
   ],
   "source": [
    "fpr_rf, tpr_rf, _ = roc_curve(y_test, y_proba_rf)\n",
    "fpr_xgb, tpr_xgb, _ = roc_curve(y_test, y_proba_xgb)\n",
    "plt.figure(figsize=(7,5))\n",
    "plt.plot(fpr_rf, tpr_rf, label=f\"Random Forest (AUC = {rf_auc:.3f})\")\n",
    "plt.plot(fpr_xgb, tpr_xgb, label=f\"XGBoost (AUC = {xgb_auc:.3f})\")\n",
    "plt.plot([0,1],[0,1],'k--')  # random baseline\n",
    "plt.xlabel(\"False Positive Rate\")\n",
    "plt.ylabel(\"True Positive Rate\")\n",
    "plt.title(\"ROC Curve\")\n",
    "plt.legend()\n",
    "plt.show()\n"
   ]
  },
  {
   "cell_type": "code",
   "execution_count": null,
   "id": "f11a410e",
   "metadata": {
    "id": "f11a410e"
   },
   "outputs": [],
   "source": []
  }
 ],
 "metadata": {
  "colab": {
   "provenance": []
  },
  "kernelspec": {
   "display_name": "quora_env",
   "language": "python",
   "name": "python3"
  },
  "language_info": {
   "codemirror_mode": {
    "name": "ipython",
    "version": 3
   },
   "file_extension": ".py",
   "mimetype": "text/x-python",
   "name": "python",
   "nbconvert_exporter": "python",
   "pygments_lexer": "ipython3",
   "version": "3.12.11"
  }
 },
 "nbformat": 4,
 "nbformat_minor": 5
}
