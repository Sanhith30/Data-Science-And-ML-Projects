{
 "cells": [
  {
   "cell_type": "code",
   "execution_count": 1,
   "id": "468bb933",
   "metadata": {
    "_cell_guid": "b1076dfc-b9ad-4769-8c92-a6c4dae69d19",
    "_uuid": "8f2839f25d086af736a60e9eeb907d3b93b6e0e5",
    "execution": {
     "iopub.execute_input": "2025-09-10T11:03:05.430073Z",
     "iopub.status.busy": "2025-09-10T11:03:05.429748Z",
     "iopub.status.idle": "2025-09-10T11:03:07.517393Z",
     "shell.execute_reply": "2025-09-10T11:03:07.516353Z"
    },
    "papermill": {
     "duration": 2.099542,
     "end_time": "2025-09-10T11:03:07.519176",
     "exception": false,
     "start_time": "2025-09-10T11:03:05.419634",
     "status": "completed"
    },
    "tags": []
   },
   "outputs": [
    {
     "name": "stdout",
     "output_type": "stream",
     "text": [
      "/kaggle/input/customer-segmentation-tutorial-in-python/Mall_Customers.csv\n"
     ]
    }
   ],
   "source": [
    "# This Python 3 environment comes with many helpful analytics libraries installed\n",
    "# It is defined by the kaggle/python Docker image: https://github.com/kaggle/docker-python\n",
    "# For example, here's several helpful packages to load\n",
    "\n",
    "import numpy as np # linear algebra\n",
    "import pandas as pd # data processing, CSV file I/O (e.g. pd.read_csv)\n",
    "\n",
    "# Input data files are available in the read-only \"../input/\" directory\n",
    "# For example, running this (by clicking run or pressing Shift+Enter) will list all files under the input directory\n",
    "\n",
    "import os\n",
    "for dirname, _, filenames in os.walk('/kaggle/input'):\n",
    "    for filename in filenames:\n",
    "        print(os.path.join(dirname, filename))\n",
    "\n",
    "# You can write up to 20GB to the current directory (/kaggle/working/) that gets preserved as output when you create a version using \"Save & Run All\" \n",
    "# You can also write temporary files to /kaggle/temp/, but they won't be saved outside of the current session"
   ]
  },
  {
   "cell_type": "code",
   "execution_count": 2,
   "id": "16a49878",
   "metadata": {
    "execution": {
     "iopub.execute_input": "2025-09-10T11:03:07.535967Z",
     "iopub.status.busy": "2025-09-10T11:03:07.535478Z",
     "iopub.status.idle": "2025-09-10T11:03:10.652918Z",
     "shell.execute_reply": "2025-09-10T11:03:10.651641Z"
    },
    "papermill": {
     "duration": 3.127981,
     "end_time": "2025-09-10T11:03:10.654999",
     "exception": false,
     "start_time": "2025-09-10T11:03:07.527018",
     "status": "completed"
    },
    "tags": []
   },
   "outputs": [],
   "source": [
    "import pandas as pd\n",
    "import numpy as np\n",
    "import matplotlib.pyplot as plt\n",
    "import seaborn as sns\n",
    "from sklearn.cluster import KMeans\n",
    "from sklearn.preprocessing import StandardScaler\n"
   ]
  },
  {
   "cell_type": "code",
   "execution_count": 3,
   "id": "e35c6ece",
   "metadata": {
    "execution": {
     "iopub.execute_input": "2025-09-10T11:03:10.674228Z",
     "iopub.status.busy": "2025-09-10T11:03:10.673582Z",
     "iopub.status.idle": "2025-09-10T11:03:10.696828Z",
     "shell.execute_reply": "2025-09-10T11:03:10.695421Z"
    },
    "papermill": {
     "duration": 0.035137,
     "end_time": "2025-09-10T11:03:10.698790",
     "exception": false,
     "start_time": "2025-09-10T11:03:10.663653",
     "status": "completed"
    },
    "tags": []
   },
   "outputs": [],
   "source": [
    "df=pd.read_csv(\"/kaggle/input/customer-segmentation-tutorial-in-python/Mall_Customers.csv\")"
   ]
  },
  {
   "cell_type": "code",
   "execution_count": 4,
   "id": "8a45f9ed",
   "metadata": {
    "execution": {
     "iopub.execute_input": "2025-09-10T11:03:10.717864Z",
     "iopub.status.busy": "2025-09-10T11:03:10.717543Z",
     "iopub.status.idle": "2025-09-10T11:03:10.724873Z",
     "shell.execute_reply": "2025-09-10T11:03:10.723653Z"
    },
    "papermill": {
     "duration": 0.018608,
     "end_time": "2025-09-10T11:03:10.726771",
     "exception": false,
     "start_time": "2025-09-10T11:03:10.708163",
     "status": "completed"
    },
    "tags": []
   },
   "outputs": [
    {
     "data": {
      "text/plain": [
       "(200, 5)"
      ]
     },
     "execution_count": 4,
     "metadata": {},
     "output_type": "execute_result"
    }
   ],
   "source": [
    "df.shape"
   ]
  },
  {
   "cell_type": "code",
   "execution_count": 5,
   "id": "8a212687",
   "metadata": {
    "execution": {
     "iopub.execute_input": "2025-09-10T11:03:10.744713Z",
     "iopub.status.busy": "2025-09-10T11:03:10.744385Z",
     "iopub.status.idle": "2025-09-10T11:03:10.771770Z",
     "shell.execute_reply": "2025-09-10T11:03:10.770699Z"
    },
    "papermill": {
     "duration": 0.038149,
     "end_time": "2025-09-10T11:03:10.773616",
     "exception": false,
     "start_time": "2025-09-10T11:03:10.735467",
     "status": "completed"
    },
    "tags": []
   },
   "outputs": [
    {
     "data": {
      "text/html": [
       "<div>\n",
       "<style scoped>\n",
       "    .dataframe tbody tr th:only-of-type {\n",
       "        vertical-align: middle;\n",
       "    }\n",
       "\n",
       "    .dataframe tbody tr th {\n",
       "        vertical-align: top;\n",
       "    }\n",
       "\n",
       "    .dataframe thead th {\n",
       "        text-align: right;\n",
       "    }\n",
       "</style>\n",
       "<table border=\"1\" class=\"dataframe\">\n",
       "  <thead>\n",
       "    <tr style=\"text-align: right;\">\n",
       "      <th></th>\n",
       "      <th>CustomerID</th>\n",
       "      <th>Gender</th>\n",
       "      <th>Age</th>\n",
       "      <th>Annual Income (k$)</th>\n",
       "      <th>Spending Score (1-100)</th>\n",
       "    </tr>\n",
       "  </thead>\n",
       "  <tbody>\n",
       "    <tr>\n",
       "      <th>0</th>\n",
       "      <td>1</td>\n",
       "      <td>Male</td>\n",
       "      <td>19</td>\n",
       "      <td>15</td>\n",
       "      <td>39</td>\n",
       "    </tr>\n",
       "    <tr>\n",
       "      <th>1</th>\n",
       "      <td>2</td>\n",
       "      <td>Male</td>\n",
       "      <td>21</td>\n",
       "      <td>15</td>\n",
       "      <td>81</td>\n",
       "    </tr>\n",
       "    <tr>\n",
       "      <th>2</th>\n",
       "      <td>3</td>\n",
       "      <td>Female</td>\n",
       "      <td>20</td>\n",
       "      <td>16</td>\n",
       "      <td>6</td>\n",
       "    </tr>\n",
       "    <tr>\n",
       "      <th>3</th>\n",
       "      <td>4</td>\n",
       "      <td>Female</td>\n",
       "      <td>23</td>\n",
       "      <td>16</td>\n",
       "      <td>77</td>\n",
       "    </tr>\n",
       "    <tr>\n",
       "      <th>4</th>\n",
       "      <td>5</td>\n",
       "      <td>Female</td>\n",
       "      <td>31</td>\n",
       "      <td>17</td>\n",
       "      <td>40</td>\n",
       "    </tr>\n",
       "  </tbody>\n",
       "</table>\n",
       "</div>"
      ],
      "text/plain": [
       "   CustomerID  Gender  Age  Annual Income (k$)  Spending Score (1-100)\n",
       "0           1    Male   19                  15                      39\n",
       "1           2    Male   21                  15                      81\n",
       "2           3  Female   20                  16                       6\n",
       "3           4  Female   23                  16                      77\n",
       "4           5  Female   31                  17                      40"
      ]
     },
     "execution_count": 5,
     "metadata": {},
     "output_type": "execute_result"
    }
   ],
   "source": [
    "df.head()"
   ]
  },
  {
   "cell_type": "code",
   "execution_count": 6,
   "id": "1f885e38",
   "metadata": {
    "execution": {
     "iopub.execute_input": "2025-09-10T11:03:10.792305Z",
     "iopub.status.busy": "2025-09-10T11:03:10.791985Z",
     "iopub.status.idle": "2025-09-10T11:03:10.821571Z",
     "shell.execute_reply": "2025-09-10T11:03:10.820626Z"
    },
    "papermill": {
     "duration": 0.040919,
     "end_time": "2025-09-10T11:03:10.823296",
     "exception": false,
     "start_time": "2025-09-10T11:03:10.782377",
     "status": "completed"
    },
    "tags": []
   },
   "outputs": [
    {
     "data": {
      "text/html": [
       "<div>\n",
       "<style scoped>\n",
       "    .dataframe tbody tr th:only-of-type {\n",
       "        vertical-align: middle;\n",
       "    }\n",
       "\n",
       "    .dataframe tbody tr th {\n",
       "        vertical-align: top;\n",
       "    }\n",
       "\n",
       "    .dataframe thead th {\n",
       "        text-align: right;\n",
       "    }\n",
       "</style>\n",
       "<table border=\"1\" class=\"dataframe\">\n",
       "  <thead>\n",
       "    <tr style=\"text-align: right;\">\n",
       "      <th></th>\n",
       "      <th>count</th>\n",
       "      <th>mean</th>\n",
       "      <th>std</th>\n",
       "      <th>min</th>\n",
       "      <th>25%</th>\n",
       "      <th>50%</th>\n",
       "      <th>75%</th>\n",
       "      <th>max</th>\n",
       "    </tr>\n",
       "  </thead>\n",
       "  <tbody>\n",
       "    <tr>\n",
       "      <th>CustomerID</th>\n",
       "      <td>200.0</td>\n",
       "      <td>100.50</td>\n",
       "      <td>57.879185</td>\n",
       "      <td>1.0</td>\n",
       "      <td>50.75</td>\n",
       "      <td>100.5</td>\n",
       "      <td>150.25</td>\n",
       "      <td>200.0</td>\n",
       "    </tr>\n",
       "    <tr>\n",
       "      <th>Age</th>\n",
       "      <td>200.0</td>\n",
       "      <td>38.85</td>\n",
       "      <td>13.969007</td>\n",
       "      <td>18.0</td>\n",
       "      <td>28.75</td>\n",
       "      <td>36.0</td>\n",
       "      <td>49.00</td>\n",
       "      <td>70.0</td>\n",
       "    </tr>\n",
       "    <tr>\n",
       "      <th>Annual Income (k$)</th>\n",
       "      <td>200.0</td>\n",
       "      <td>60.56</td>\n",
       "      <td>26.264721</td>\n",
       "      <td>15.0</td>\n",
       "      <td>41.50</td>\n",
       "      <td>61.5</td>\n",
       "      <td>78.00</td>\n",
       "      <td>137.0</td>\n",
       "    </tr>\n",
       "    <tr>\n",
       "      <th>Spending Score (1-100)</th>\n",
       "      <td>200.0</td>\n",
       "      <td>50.20</td>\n",
       "      <td>25.823522</td>\n",
       "      <td>1.0</td>\n",
       "      <td>34.75</td>\n",
       "      <td>50.0</td>\n",
       "      <td>73.00</td>\n",
       "      <td>99.0</td>\n",
       "    </tr>\n",
       "  </tbody>\n",
       "</table>\n",
       "</div>"
      ],
      "text/plain": [
       "                        count    mean        std   min    25%    50%     75%  \\\n",
       "CustomerID              200.0  100.50  57.879185   1.0  50.75  100.5  150.25   \n",
       "Age                     200.0   38.85  13.969007  18.0  28.75   36.0   49.00   \n",
       "Annual Income (k$)      200.0   60.56  26.264721  15.0  41.50   61.5   78.00   \n",
       "Spending Score (1-100)  200.0   50.20  25.823522   1.0  34.75   50.0   73.00   \n",
       "\n",
       "                          max  \n",
       "CustomerID              200.0  \n",
       "Age                      70.0  \n",
       "Annual Income (k$)      137.0  \n",
       "Spending Score (1-100)   99.0  "
      ]
     },
     "execution_count": 6,
     "metadata": {},
     "output_type": "execute_result"
    }
   ],
   "source": [
    "df.describe().T"
   ]
  },
  {
   "cell_type": "code",
   "execution_count": 7,
   "id": "4f4f762f",
   "metadata": {
    "execution": {
     "iopub.execute_input": "2025-09-10T11:03:10.840761Z",
     "iopub.status.busy": "2025-09-10T11:03:10.839991Z",
     "iopub.status.idle": "2025-09-10T11:03:10.847302Z",
     "shell.execute_reply": "2025-09-10T11:03:10.846374Z"
    },
    "papermill": {
     "duration": 0.017881,
     "end_time": "2025-09-10T11:03:10.849089",
     "exception": false,
     "start_time": "2025-09-10T11:03:10.831208",
     "status": "completed"
    },
    "tags": []
   },
   "outputs": [
    {
     "data": {
      "text/plain": [
       "CustomerID                0\n",
       "Gender                    0\n",
       "Age                       0\n",
       "Annual Income (k$)        0\n",
       "Spending Score (1-100)    0\n",
       "dtype: int64"
      ]
     },
     "execution_count": 7,
     "metadata": {},
     "output_type": "execute_result"
    }
   ],
   "source": [
    "df.isnull().sum()"
   ]
  },
  {
   "cell_type": "code",
   "execution_count": 8,
   "id": "60cc02d6",
   "metadata": {
    "execution": {
     "iopub.execute_input": "2025-09-10T11:03:10.866660Z",
     "iopub.status.busy": "2025-09-10T11:03:10.866290Z",
     "iopub.status.idle": "2025-09-10T11:03:10.876659Z",
     "shell.execute_reply": "2025-09-10T11:03:10.875702Z"
    },
    "papermill": {
     "duration": 0.02108,
     "end_time": "2025-09-10T11:03:10.878455",
     "exception": false,
     "start_time": "2025-09-10T11:03:10.857375",
     "status": "completed"
    },
    "tags": []
   },
   "outputs": [
    {
     "data": {
      "text/plain": [
       "Gender\n",
       "Female    112\n",
       "Male       88\n",
       "Name: count, dtype: int64"
      ]
     },
     "execution_count": 8,
     "metadata": {},
     "output_type": "execute_result"
    }
   ],
   "source": [
    "df[\"Gender\"].value_counts()"
   ]
  },
  {
   "cell_type": "code",
   "execution_count": 9,
   "id": "2053cd21",
   "metadata": {
    "execution": {
     "iopub.execute_input": "2025-09-10T11:03:10.895956Z",
     "iopub.status.busy": "2025-09-10T11:03:10.895644Z",
     "iopub.status.idle": "2025-09-10T11:03:10.901542Z",
     "shell.execute_reply": "2025-09-10T11:03:10.900662Z"
    },
    "papermill": {
     "duration": 0.016447,
     "end_time": "2025-09-10T11:03:10.902969",
     "exception": false,
     "start_time": "2025-09-10T11:03:10.886522",
     "status": "completed"
    },
    "tags": []
   },
   "outputs": [
    {
     "data": {
      "text/plain": [
       "137"
      ]
     },
     "execution_count": 9,
     "metadata": {},
     "output_type": "execute_result"
    }
   ],
   "source": [
    "df[\"Annual Income (k$)\"].max()"
   ]
  },
  {
   "cell_type": "code",
   "execution_count": 10,
   "id": "346a7a31",
   "metadata": {
    "execution": {
     "iopub.execute_input": "2025-09-10T11:03:10.921755Z",
     "iopub.status.busy": "2025-09-10T11:03:10.920699Z",
     "iopub.status.idle": "2025-09-10T11:03:10.927380Z",
     "shell.execute_reply": "2025-09-10T11:03:10.926406Z"
    },
    "papermill": {
     "duration": 0.017914,
     "end_time": "2025-09-10T11:03:10.929163",
     "exception": false,
     "start_time": "2025-09-10T11:03:10.911249",
     "status": "completed"
    },
    "tags": []
   },
   "outputs": [
    {
     "data": {
      "text/plain": [
       "15"
      ]
     },
     "execution_count": 10,
     "metadata": {},
     "output_type": "execute_result"
    }
   ],
   "source": [
    "df[\"Annual Income (k$)\"].min()"
   ]
  },
  {
   "cell_type": "code",
   "execution_count": 11,
   "id": "102b2e14",
   "metadata": {
    "execution": {
     "iopub.execute_input": "2025-09-10T11:03:10.946572Z",
     "iopub.status.busy": "2025-09-10T11:03:10.946167Z",
     "iopub.status.idle": "2025-09-10T11:03:11.190909Z",
     "shell.execute_reply": "2025-09-10T11:03:11.189870Z"
    },
    "papermill": {
     "duration": 0.255112,
     "end_time": "2025-09-10T11:03:11.192411",
     "exception": false,
     "start_time": "2025-09-10T11:03:10.937299",
     "status": "completed"
    },
    "tags": []
   },
   "outputs": [
    {
     "data": {
      "image/png": "[encoded data removed]",
      "text/plain": [
       "<Figure size 640x480 with 1 Axes>"
      ]
     },
     "metadata": {},
     "output_type": "display_data"
    }
   ],
   "source": [
    "sns.countplot(x='Gender', data=df)\n",
    "plt.show()"
   ]
  },
  {
   "cell_type": "code",
   "execution_count": 12,
   "id": "967e03b4",
   "metadata": {
    "execution": {
     "iopub.execute_input": "2025-09-10T11:03:11.210186Z",
     "iopub.status.busy": "2025-09-10T11:03:11.209872Z",
     "iopub.status.idle": "2025-09-10T11:03:11.374842Z",
     "shell.execute_reply": "2025-09-10T11:03:11.373572Z"
    },
    "papermill": {
     "duration": 0.176031,
     "end_time": "2025-09-10T11:03:11.376847",
     "exception": false,
     "start_time": "2025-09-10T11:03:11.200816",
     "status": "completed"
    },
    "tags": []
   },
   "outputs": [
    {
     "data": {
      "image/png": "[encoded data removed]",
      "text/plain": [
       "<Figure size 800x600 with 1 Axes>"
      ]
     },
     "metadata": {},
     "output_type": "display_data"
    }
   ],
   "source": [
    "plt.figure(figsize=(8,6))\n",
    "sns.boxplot(x='Gender', y='Spending Score (1-100)', data=df)\n",
    "plt.title(\"Gender vs Spending Score\")\n",
    "plt.show()\n"
   ]
  },
  {
   "cell_type": "code",
   "execution_count": 13,
   "id": "f82ea020",
   "metadata": {
    "execution": {
     "iopub.execute_input": "2025-09-10T11:03:11.396587Z",
     "iopub.status.busy": "2025-09-10T11:03:11.396213Z",
     "iopub.status.idle": "2025-09-10T11:03:11.562647Z",
     "shell.execute_reply": "2025-09-10T11:03:11.561704Z"
    },
    "papermill": {
     "duration": 0.177796,
     "end_time": "2025-09-10T11:03:11.564299",
     "exception": false,
     "start_time": "2025-09-10T11:03:11.386503",
     "status": "completed"
    },
    "tags": []
   },
   "outputs": [
    {
     "data": {
      "image/png": "[encoded data removed]",
      "text/plain": [
       "<Figure size 800x600 with 1 Axes>"
      ]
     },
     "metadata": {},
     "output_type": "display_data"
    }
   ],
   "source": [
    "plt.figure(figsize=(8,6))\n",
    "sns.boxplot(x='Gender', y='Annual Income (k$)', data=df)\n",
    "plt.title(\"Gender vs Annual Income\")\n",
    "plt.show()\n"
   ]
  },
  {
   "cell_type": "code",
   "execution_count": 14,
   "id": "a7efd36a",
   "metadata": {
    "execution": {
     "iopub.execute_input": "2025-09-10T11:03:11.584235Z",
     "iopub.status.busy": "2025-09-10T11:03:11.583943Z",
     "iopub.status.idle": "2025-09-10T11:03:11.862654Z",
     "shell.execute_reply": "2025-09-10T11:03:11.861388Z"
    },
    "papermill": {
     "duration": 0.290278,
     "end_time": "2025-09-10T11:03:11.864220",
     "exception": false,
     "start_time": "2025-09-10T11:03:11.573942",
     "status": "completed"
    },
    "tags": []
   },
   "outputs": [
    {
     "data": {
      "image/png": "[encoded data removed]",
      "text/plain": [
       "<Figure size 800x600 with 1 Axes>"
      ]
     },
     "metadata": {},
     "output_type": "display_data"
    }
   ],
   "source": [
    "plt.figure(figsize=(8,6))\n",
    "sns.scatterplot(x='Annual Income (k$)', y='Spending Score (1-100)', data=df, hue='Gender')\n",
    "plt.title(\"Customer Distribution\")\n",
    "plt.show()\n"
   ]
  },
  {
   "cell_type": "code",
   "execution_count": 15,
   "id": "301aa8a7",
   "metadata": {
    "execution": {
     "iopub.execute_input": "2025-09-10T11:03:11.887058Z",
     "iopub.status.busy": "2025-09-10T11:03:11.886647Z",
     "iopub.status.idle": "2025-09-10T11:03:12.030699Z",
     "shell.execute_reply": "2025-09-10T11:03:12.029436Z"
    },
    "papermill": {
     "duration": 0.157179,
     "end_time": "2025-09-10T11:03:12.032526",
     "exception": false,
     "start_time": "2025-09-10T11:03:11.875347",
     "status": "completed"
    },
    "tags": []
   },
   "outputs": [
    {
     "data": {
      "image/png": "[encoded data removed]",
      "text/plain": [
       "<Figure size 500x600 with 1 Axes>"
      ]
     },
     "metadata": {},
     "output_type": "display_data"
    }
   ],
   "source": [
    "plt.figure(figsize=(5,6))\n",
    "sns.boxplot(y='Annual Income (k$)', data=df)\n",
    "plt.title(\"Boxplot for Annual Income\")\n",
    "plt.show()\n"
   ]
  },
  {
   "cell_type": "code",
   "execution_count": 16,
   "id": "fff5b3e0",
   "metadata": {
    "execution": {
     "iopub.execute_input": "2025-09-10T11:03:12.125875Z",
     "iopub.status.busy": "2025-09-10T11:03:12.125405Z",
     "iopub.status.idle": "2025-09-10T11:03:12.140656Z",
     "shell.execute_reply": "2025-09-10T11:03:12.139621Z"
    },
    "papermill": {
     "duration": 0.098393,
     "end_time": "2025-09-10T11:03:12.142240",
     "exception": false,
     "start_time": "2025-09-10T11:03:12.043847",
     "status": "completed"
    },
    "tags": []
   },
   "outputs": [
    {
     "name": "stdout",
     "output_type": "stream",
     "text": [
      "Number of outliers: 2\n",
      "     CustomerID  Annual Income (k$)\n",
      "198         199                 137\n",
      "199         200                 137\n"
     ]
    }
   ],
   "source": [
    "Q1 = df['Annual Income (k$)'].quantile(0.25)\n",
    "Q3 = df['Annual Income (k$)'].quantile(0.75)\n",
    "IQR = Q3 - Q1\n",
    "\n",
    "# Define outlier bounds\n",
    "lower_bound = Q1 - 1.5 * IQR\n",
    "upper_bound = Q3 + 1.5 * IQR\n",
    "\n",
    "# Detect outliers\n",
    "outliers = df[(df['Annual Income (k$)'] < lower_bound) | (df['Annual Income (k$)'] > upper_bound)]\n",
    "print(f\"Number of outliers: {len(outliers)}\")\n",
    "print(outliers[['CustomerID','Annual Income (k$)']])\n"
   ]
  },
  {
   "cell_type": "code",
   "execution_count": 17,
   "id": "82987026",
   "metadata": {
    "execution": {
     "iopub.execute_input": "2025-09-10T11:03:12.166127Z",
     "iopub.status.busy": "2025-09-10T11:03:12.165793Z",
     "iopub.status.idle": "2025-09-10T11:03:12.173184Z",
     "shell.execute_reply": "2025-09-10T11:03:12.172049Z"
    },
    "papermill": {
     "duration": 0.021769,
     "end_time": "2025-09-10T11:03:12.175142",
     "exception": false,
     "start_time": "2025-09-10T11:03:12.153373",
     "status": "completed"
    },
    "tags": []
   },
   "outputs": [
    {
     "name": "stdout",
     "output_type": "stream",
     "text": [
      "Original data size: 198\n",
      "Data size after removing outliers: 198\n"
     ]
    }
   ],
   "source": [
    "df= df[(df['Annual Income (k$)'] >= lower_bound) & (df['Annual Income (k$)'] <= upper_bound)]\n",
    "print(f\"Original data size: {len(df)}\")\n",
    "print(f\"Data size after removing outliers: {len(df)}\")\n"
   ]
  },
  {
   "cell_type": "code",
   "execution_count": 18,
   "id": "52d0fc5b",
   "metadata": {
    "execution": {
     "iopub.execute_input": "2025-09-10T11:03:12.198115Z",
     "iopub.status.busy": "2025-09-10T11:03:12.197765Z",
     "iopub.status.idle": "2025-09-10T11:03:12.208518Z",
     "shell.execute_reply": "2025-09-10T11:03:12.207604Z"
    },
    "papermill": {
     "duration": 0.024545,
     "end_time": "2025-09-10T11:03:12.210421",
     "exception": false,
     "start_time": "2025-09-10T11:03:12.185876",
     "status": "completed"
    },
    "tags": []
   },
   "outputs": [
    {
     "data": {
      "text/html": [
       "<div>\n",
       "<style scoped>\n",
       "    .dataframe tbody tr th:only-of-type {\n",
       "        vertical-align: middle;\n",
       "    }\n",
       "\n",
       "    .dataframe tbody tr th {\n",
       "        vertical-align: top;\n",
       "    }\n",
       "\n",
       "    .dataframe thead th {\n",
       "        text-align: right;\n",
       "    }\n",
       "</style>\n",
       "<table border=\"1\" class=\"dataframe\">\n",
       "  <thead>\n",
       "    <tr style=\"text-align: right;\">\n",
       "      <th></th>\n",
       "      <th>CustomerID</th>\n",
       "      <th>Gender</th>\n",
       "      <th>Age</th>\n",
       "      <th>Annual Income (k$)</th>\n",
       "      <th>Spending Score (1-100)</th>\n",
       "    </tr>\n",
       "  </thead>\n",
       "  <tbody>\n",
       "    <tr>\n",
       "      <th>0</th>\n",
       "      <td>1</td>\n",
       "      <td>Male</td>\n",
       "      <td>19</td>\n",
       "      <td>15</td>\n",
       "      <td>39</td>\n",
       "    </tr>\n",
       "    <tr>\n",
       "      <th>1</th>\n",
       "      <td>2</td>\n",
       "      <td>Male</td>\n",
       "      <td>21</td>\n",
       "      <td>15</td>\n",
       "      <td>81</td>\n",
       "    </tr>\n",
       "    <tr>\n",
       "      <th>2</th>\n",
       "      <td>3</td>\n",
       "      <td>Female</td>\n",
       "      <td>20</td>\n",
       "      <td>16</td>\n",
       "      <td>6</td>\n",
       "    </tr>\n",
       "    <tr>\n",
       "      <th>3</th>\n",
       "      <td>4</td>\n",
       "      <td>Female</td>\n",
       "      <td>23</td>\n",
       "      <td>16</td>\n",
       "      <td>77</td>\n",
       "    </tr>\n",
       "    <tr>\n",
       "      <th>4</th>\n",
       "      <td>5</td>\n",
       "      <td>Female</td>\n",
       "      <td>31</td>\n",
       "      <td>17</td>\n",
       "      <td>40</td>\n",
       "    </tr>\n",
       "    <tr>\n",
       "      <th>...</th>\n",
       "      <td>...</td>\n",
       "      <td>...</td>\n",
       "      <td>...</td>\n",
       "      <td>...</td>\n",
       "      <td>...</td>\n",
       "    </tr>\n",
       "    <tr>\n",
       "      <th>193</th>\n",
       "      <td>194</td>\n",
       "      <td>Female</td>\n",
       "      <td>38</td>\n",
       "      <td>113</td>\n",
       "      <td>91</td>\n",
       "    </tr>\n",
       "    <tr>\n",
       "      <th>194</th>\n",
       "      <td>195</td>\n",
       "      <td>Female</td>\n",
       "      <td>47</td>\n",
       "      <td>120</td>\n",
       "      <td>16</td>\n",
       "    </tr>\n",
       "    <tr>\n",
       "      <th>195</th>\n",
       "      <td>196</td>\n",
       "      <td>Female</td>\n",
       "      <td>35</td>\n",
       "      <td>120</td>\n",
       "      <td>79</td>\n",
       "    </tr>\n",
       "    <tr>\n",
       "      <th>196</th>\n",
       "      <td>197</td>\n",
       "      <td>Female</td>\n",
       "      <td>45</td>\n",
       "      <td>126</td>\n",
       "      <td>28</td>\n",
       "    </tr>\n",
       "    <tr>\n",
       "      <th>197</th>\n",
       "      <td>198</td>\n",
       "      <td>Male</td>\n",
       "      <td>32</td>\n",
       "      <td>126</td>\n",
       "      <td>74</td>\n",
       "    </tr>\n",
       "  </tbody>\n",
       "</table>\n",
       "<p>198 rows × 5 columns</p>\n",
       "</div>"
      ],
      "text/plain": [
       "     CustomerID  Gender  Age  Annual Income (k$)  Spending Score (1-100)\n",
       "0             1    Male   19                  15                      39\n",
       "1             2    Male   21                  15                      81\n",
       "2             3  Female   20                  16                       6\n",
       "3             4  Female   23                  16                      77\n",
       "4             5  Female   31                  17                      40\n",
       "..          ...     ...  ...                 ...                     ...\n",
       "193         194  Female   38                 113                      91\n",
       "194         195  Female   47                 120                      16\n",
       "195         196  Female   35                 120                      79\n",
       "196         197  Female   45                 126                      28\n",
       "197         198    Male   32                 126                      74\n",
       "\n",
       "[198 rows x 5 columns]"
      ]
     },
     "execution_count": 18,
     "metadata": {},
     "output_type": "execute_result"
    }
   ],
   "source": [
    "df"
   ]
  },
  {
   "cell_type": "code",
   "execution_count": 19,
   "id": "f6d0954b",
   "metadata": {
    "execution": {
     "iopub.execute_input": "2025-09-10T11:03:12.234369Z",
     "iopub.status.busy": "2025-09-10T11:03:12.234003Z",
     "iopub.status.idle": "2025-09-10T11:03:12.239349Z",
     "shell.execute_reply": "2025-09-10T11:03:12.238222Z"
    },
    "papermill": {
     "duration": 0.0196,
     "end_time": "2025-09-10T11:03:12.241168",
     "exception": false,
     "start_time": "2025-09-10T11:03:12.221568",
     "status": "completed"
    },
    "tags": []
   },
   "outputs": [],
   "source": [
    "from sklearn.preprocessing import LabelEncoder\n"
   ]
  },
  {
   "cell_type": "code",
   "execution_count": 20,
   "id": "9a0613f7",
   "metadata": {
    "execution": {
     "iopub.execute_input": "2025-09-10T11:03:12.264850Z",
     "iopub.status.busy": "2025-09-10T11:03:12.264525Z",
     "iopub.status.idle": "2025-09-10T11:03:12.270053Z",
     "shell.execute_reply": "2025-09-10T11:03:12.269037Z"
    },
    "papermill": {
     "duration": 0.019401,
     "end_time": "2025-09-10T11:03:12.271819",
     "exception": false,
     "start_time": "2025-09-10T11:03:12.252418",
     "status": "completed"
    },
    "tags": []
   },
   "outputs": [],
   "source": [
    "le = LabelEncoder()\n",
    "df['Gender'] = le.fit_transform(df['Gender'])"
   ]
  },
  {
   "cell_type": "code",
   "execution_count": 21,
   "id": "0991c89d",
   "metadata": {
    "execution": {
     "iopub.execute_input": "2025-09-10T11:03:12.296087Z",
     "iopub.status.busy": "2025-09-10T11:03:12.295755Z",
     "iopub.status.idle": "2025-09-10T11:03:12.816700Z",
     "shell.execute_reply": "2025-09-10T11:03:12.815833Z"
    },
    "papermill": {
     "duration": 0.534663,
     "end_time": "2025-09-10T11:03:12.818396",
     "exception": false,
     "start_time": "2025-09-10T11:03:12.283733",
     "status": "completed"
    },
    "tags": []
   },
   "outputs": [
    {
     "name": "stderr",
     "output_type": "stream",
     "text": [
      "/usr/local/lib/python3.11/dist-packages/sklearn/cluster/_kmeans.py:870: FutureWarning: The default value of `n_init` will change from 10 to 'auto' in 1.4. Set the value of `n_init` explicitly to suppress the warning\n",
      "  warnings.warn(\n",
      "/usr/local/lib/python3.11/dist-packages/sklearn/cluster/_kmeans.py:870: FutureWarning: The default value of `n_init` will change from 10 to 'auto' in 1.4. Set the value of `n_init` explicitly to suppress the warning\n",
      "  warnings.warn(\n",
      "/usr/local/lib/python3.11/dist-packages/sklearn/cluster/_kmeans.py:870: FutureWarning: The default value of `n_init` will change from 10 to 'auto' in 1.4. Set the value of `n_init` explicitly to suppress the warning\n",
      "  warnings.warn(\n",
      "/usr/local/lib/python3.11/dist-packages/sklearn/cluster/_kmeans.py:870: FutureWarning: The default value of `n_init` will change from 10 to 'auto' in 1.4. Set the value of `n_init` explicitly to suppress the warning\n",
      "  warnings.warn(\n",
      "/usr/local/lib/python3.11/dist-packages/sklearn/cluster/_kmeans.py:870: FutureWarning: The default value of `n_init` will change from 10 to 'auto' in 1.4. Set the value of `n_init` explicitly to suppress the warning\n",
      "  warnings.warn(\n",
      "/usr/local/lib/python3.11/dist-packages/sklearn/cluster/_kmeans.py:870: FutureWarning: The default value of `n_init` will change from 10 to 'auto' in 1.4. Set the value of `n_init` explicitly to suppress the warning\n",
      "  warnings.warn(\n",
      "/usr/local/lib/python3.11/dist-packages/sklearn/cluster/_kmeans.py:870: FutureWarning: The default value of `n_init` will change from 10 to 'auto' in 1.4. Set the value of `n_init` explicitly to suppress the warning\n",
      "  warnings.warn(\n",
      "/usr/local/lib/python3.11/dist-packages/sklearn/cluster/_kmeans.py:870: FutureWarning: The default value of `n_init` will change from 10 to 'auto' in 1.4. Set the value of `n_init` explicitly to suppress the warning\n",
      "  warnings.warn(\n",
      "/usr/local/lib/python3.11/dist-packages/sklearn/cluster/_kmeans.py:870: FutureWarning: The default value of `n_init` will change from 10 to 'auto' in 1.4. Set the value of `n_init` explicitly to suppress the warning\n",
      "  warnings.warn(\n",
      "/usr/local/lib/python3.11/dist-packages/sklearn/cluster/_kmeans.py:870: FutureWarning: The default value of `n_init` will change from 10 to 'auto' in 1.4. Set the value of `n_init` explicitly to suppress the warning\n",
      "  warnings.warn(\n"
     ]
    },
    {
     "data": {
      "image/png": "[encoded data removed]",
      "text/plain": [
       "<Figure size 800x600 with 1 Axes>"
      ]
     },
     "metadata": {},
     "output_type": "display_data"
    }
   ],
   "source": [
    "wcss = []\n",
    "for i in range(1, 11):\n",
    "    kmeans = KMeans(n_clusters=i, init='k-means++', random_state=42)\n",
    "    kmeans.fit(df)\n",
    "    wcss.append(kmeans.inertia_)\n",
    "\n",
    "# Plot the elbow curve\n",
    "plt.figure(figsize=(8,6))\n",
    "plt.plot(range(1,11), wcss, marker='o')\n",
    "plt.title('Elbow Method')\n",
    "plt.xlabel('Number of clusters')\n",
    "plt.ylabel('WCSS')\n",
    "plt.show()\n"
   ]
  },
  {
   "cell_type": "markdown",
   "id": "4dd07c77",
   "metadata": {
    "papermill": {
     "duration": 0.010998,
     "end_time": "2025-09-10T11:03:12.841185",
     "exception": false,
     "start_time": "2025-09-10T11:03:12.830187",
     "status": "completed"
    },
    "tags": []
   },
   "source": [
    "from above k =4"
   ]
  },
  {
   "cell_type": "code",
   "execution_count": 22,
   "id": "2beee2cb",
   "metadata": {
    "execution": {
     "iopub.execute_input": "2025-09-10T11:03:12.865219Z",
     "iopub.status.busy": "2025-09-10T11:03:12.864918Z",
     "iopub.status.idle": "2025-09-10T11:03:12.895198Z",
     "shell.execute_reply": "2025-09-10T11:03:12.894561Z"
    },
    "papermill": {
     "duration": 0.0458,
     "end_time": "2025-09-10T11:03:12.898404",
     "exception": false,
     "start_time": "2025-09-10T11:03:12.852604",
     "status": "completed"
    },
    "tags": []
   },
   "outputs": [
    {
     "name": "stderr",
     "output_type": "stream",
     "text": [
      "/usr/local/lib/python3.11/dist-packages/sklearn/cluster/_kmeans.py:870: FutureWarning: The default value of `n_init` will change from 10 to 'auto' in 1.4. Set the value of `n_init` explicitly to suppress the warning\n",
      "  warnings.warn(\n"
     ]
    }
   ],
   "source": [
    "scaler = StandardScaler()\n",
    "X_scaled = scaler.fit_transform(df)\n",
    "\n",
    "kmeans_scaled = KMeans(n_clusters=5, init='k-means++', random_state=42)\n",
    "y_scaled = kmeans_scaled.fit_predict(X_scaled)\n",
    "\n",
    "df['Cluster'] = y_scaled\n"
   ]
  },
  {
   "cell_type": "code",
   "execution_count": 23,
   "id": "0aeea983",
   "metadata": {
    "execution": {
     "iopub.execute_input": "2025-09-10T11:03:12.925357Z",
     "iopub.status.busy": "2025-09-10T11:03:12.924986Z",
     "iopub.status.idle": "2025-09-10T11:03:13.212220Z",
     "shell.execute_reply": "2025-09-10T11:03:13.211314Z"
    },
    "papermill": {
     "duration": 0.301319,
     "end_time": "2025-09-10T11:03:13.213955",
     "exception": false,
     "start_time": "2025-09-10T11:03:12.912636",
     "status": "completed"
    },
    "tags": []
   },
   "outputs": [
    {
     "data": {
      "image/png": "[encoded data removed]",
      "text/plain": [
       "<Figure size 800x600 with 1 Axes>"
      ]
     },
     "metadata": {},
     "output_type": "display_data"
    }
   ],
   "source": [
    "plt.figure(figsize=(8,6))\n",
    "colors = ['red','blue','green','cyan']\n",
    "\n",
    "for i in range(4):\n",
    "    plt.scatter(df[df['Cluster']==i]['Annual Income (k$)'],\n",
    "                df[df['Cluster']==i]['Spending Score (1-100)'],\n",
    "                s=50, c=colors[i], label=f'Cluster {i+1}')\n",
    "\n",
    "plt.title('Customer Segments')\n",
    "plt.xlabel('Annual Income (k$)')\n",
    "plt.ylabel('Spending Score (1-100)')\n",
    "plt.legend()\n",
    "plt.show()\n"
   ]
  },
  {
   "cell_type": "code",
   "execution_count": 24,
   "id": "b2494b91",
   "metadata": {
    "execution": {
     "iopub.execute_input": "2025-09-10T11:03:13.240848Z",
     "iopub.status.busy": "2025-09-10T11:03:13.240491Z",
     "iopub.status.idle": "2025-09-10T11:03:13.255397Z",
     "shell.execute_reply": "2025-09-10T11:03:13.254105Z"
    },
    "papermill": {
     "duration": 0.030605,
     "end_time": "2025-09-10T11:03:13.257384",
     "exception": false,
     "start_time": "2025-09-10T11:03:13.226779",
     "status": "completed"
    },
    "tags": []
   },
   "outputs": [
    {
     "name": "stdout",
     "output_type": "stream",
     "text": [
      "               Age  Annual Income (k$)  Spending Score (1-100)\n",
      "Cluster                                                       \n",
      "0        40.111111           86.055556               18.861111\n",
      "1        24.673077           39.500000               61.807692\n",
      "2        56.000000           47.266667               39.566667\n",
      "3        32.615385           84.743590               81.435897\n",
      "4        49.487805           47.878049               41.048780\n"
     ]
    }
   ],
   "source": [
    "cluster_summary = df.groupby('Cluster')[['Age','Annual Income (k$)','Spending Score (1-100)']].mean()\n",
    "print(cluster_summary)\n"
   ]
  },
  {
   "cell_type": "code",
   "execution_count": 25,
   "id": "96b6e971",
   "metadata": {
    "execution": {
     "iopub.execute_input": "2025-09-10T11:03:13.284912Z",
     "iopub.status.busy": "2025-09-10T11:03:13.284620Z",
     "iopub.status.idle": "2025-09-10T11:03:13.292527Z",
     "shell.execute_reply": "2025-09-10T11:03:13.291279Z"
    },
    "papermill": {
     "duration": 0.023492,
     "end_time": "2025-09-10T11:03:13.294230",
     "exception": false,
     "start_time": "2025-09-10T11:03:13.270738",
     "status": "completed"
    },
    "tags": []
   },
   "outputs": [
    {
     "name": "stdout",
     "output_type": "stream",
     "text": [
      "Cluster\n",
      "1    52\n",
      "4    41\n",
      "3    39\n",
      "0    36\n",
      "2    30\n",
      "Name: count, dtype: int64\n"
     ]
    }
   ],
   "source": [
    "print(df['Cluster'].value_counts())\n"
   ]
  },
  {
   "cell_type": "code",
   "execution_count": 26,
   "id": "08645b7a",
   "metadata": {
    "execution": {
     "iopub.execute_input": "2025-09-10T11:03:13.321726Z",
     "iopub.status.busy": "2025-09-10T11:03:13.321390Z",
     "iopub.status.idle": "2025-09-10T11:03:13.596809Z",
     "shell.execute_reply": "2025-09-10T11:03:13.595870Z"
    },
    "papermill": {
     "duration": 0.291092,
     "end_time": "2025-09-10T11:03:13.598520",
     "exception": false,
     "start_time": "2025-09-10T11:03:13.307428",
     "status": "completed"
    },
    "tags": []
   },
   "outputs": [
    {
     "data": {
      "image/png": "[encoded data removed]",
      "text/plain": [
       "<Figure size 800x600 with 1 Axes>"
      ]
     },
     "metadata": {},
     "output_type": "display_data"
    }
   ],
   "source": [
    "plt.figure(figsize=(8,6))\n",
    "sns.boxplot(x='Gender', y='Spending Score (1-100)', data=df, hue='Cluster')\n",
    "plt.title(\"Spending Score by Gender and Cluster\")\n",
    "plt.show()\n"
   ]
  },
  {
   "cell_type": "code",
   "execution_count": 27,
   "id": "874ba724",
   "metadata": {
    "execution": {
     "iopub.execute_input": "2025-09-10T11:03:13.627139Z",
     "iopub.status.busy": "2025-09-10T11:03:13.626816Z",
     "iopub.status.idle": "2025-09-10T11:03:13.675167Z",
     "shell.execute_reply": "2025-09-10T11:03:13.673758Z"
    },
    "papermill": {
     "duration": 0.065039,
     "end_time": "2025-09-10T11:03:13.676907",
     "exception": false,
     "start_time": "2025-09-10T11:03:13.611868",
     "status": "completed"
    },
    "tags": []
   },
   "outputs": [
    {
     "name": "stdout",
     "output_type": "stream",
     "text": [
      "Cluster Summary (Numerical):\n",
      "          Age  Annual Income (k$)  Spending Score (1-100)\n",
      "Cluster                                                  \n",
      "0        40.1                86.1                    18.9\n",
      "1        24.7                39.5                    61.8\n",
      "2        56.0                47.3                    39.6\n",
      "3        32.6                84.7                    81.4\n",
      "4        49.5                47.9                    41.0\n",
      "\n",
      "Cluster Summary with Labels:\n",
      "                                Age  Annual Income (k$)  \\\n",
      "Cluster_Label                                             \n",
      "Budget Customers               52.2                47.6   \n",
      "Impulsive/Young Spenders       24.7                39.5   \n",
      "Premium Customers              32.6                84.7   \n",
      "Savers/Conservative Customers  40.1                86.1   \n",
      "\n",
      "                               Spending Score (1-100)  Number of Customers  \n",
      "Cluster_Label                                                               \n",
      "Budget Customers                                 40.4                   71  \n",
      "Impulsive/Young Spenders                         61.8                   52  \n",
      "Premium Customers                                81.4                   39  \n",
      "Savers/Conservative Customers                    18.9                   36  \n"
     ]
    }
   ],
   "source": [
    "# Step 1: Create cluster summary\n",
    "cluster_summary = df.groupby('Cluster').agg({\n",
    "    'Age': 'mean',\n",
    "    'Annual Income (k$)': 'mean',\n",
    "    'Spending Score (1-100)': 'mean'\n",
    "}).round(1)\n",
    "\n",
    "print(\"Cluster Summary (Numerical):\")\n",
    "print(cluster_summary)\n",
    "\n",
    "# Step 2: Map clusters to labels (based on avg income & spending)\n",
    "def label_cluster(row):\n",
    "    if row['Annual Income (k$)'] < cluster_summary['Annual Income (k$)'].mean() and row['Spending Score (1-100)'] < cluster_summary['Spending Score (1-100)'].mean():\n",
    "        return \"Budget Customers\"\n",
    "    elif row['Annual Income (k$)'] > cluster_summary['Annual Income (k$)'].mean() and row['Spending Score (1-100)'] > cluster_summary['Spending Score (1-100)'].mean():\n",
    "        return \"Premium Customers\"\n",
    "    elif row['Annual Income (k$)'] < cluster_summary['Annual Income (k$)'].mean() and row['Spending Score (1-100)'] > cluster_summary['Spending Score (1-100)'].mean():\n",
    "        return \"Impulsive/Young Spenders\"\n",
    "    else:\n",
    "        return \"Savers/Conservative Customers\"\n",
    "\n",
    "# Step 3: Apply labels\n",
    "df['Cluster_Label'] = df['Cluster'].apply(lambda x: label_cluster(cluster_summary.loc[x]))\n",
    "\n",
    "# Step 4: New cluster summary with labels\n",
    "labeled_summary = df.groupby('Cluster_Label').agg({\n",
    "    'Age': 'mean',\n",
    "    'Annual Income (k$)': 'mean',\n",
    "    'Spending Score (1-100)': 'mean',\n",
    "    'Cluster': 'count'\n",
    "}).rename(columns={'Cluster': 'Number of Customers'}).round(1)\n",
    "\n",
    "print(\"\\nCluster Summary with Labels:\")\n",
    "print(labeled_summary)\n"
   ]
  },
  {
   "cell_type": "code",
   "execution_count": 28,
   "id": "c5e74786",
   "metadata": {
    "execution": {
     "iopub.execute_input": "2025-09-10T11:03:13.706625Z",
     "iopub.status.busy": "2025-09-10T11:03:13.705876Z",
     "iopub.status.idle": "2025-09-10T11:03:13.737026Z",
     "shell.execute_reply": "2025-09-10T11:03:13.735774Z"
    },
    "papermill": {
     "duration": 0.048279,
     "end_time": "2025-09-10T11:03:13.739111",
     "exception": false,
     "start_time": "2025-09-10T11:03:13.690832",
     "status": "completed"
    },
    "tags": []
   },
   "outputs": [
    {
     "name": "stdout",
     "output_type": "stream",
     "text": [
      "Silhouette Score: 0.2062297355240466\n"
     ]
    }
   ],
   "source": [
    "from sklearn.metrics import silhouette_score\n",
    "\n",
    "X = df[['Annual Income (k$)', 'Spending Score (1-100)']]\n",
    "score = silhouette_score(X, df['Cluster'])\n",
    "print(\"Silhouette Score:\", score)\n"
   ]
  },
  {
   "cell_type": "code",
   "execution_count": null,
   "id": "4769ae7f",
   "metadata": {
    "papermill": {
     "duration": 0.013601,
     "end_time": "2025-09-10T11:03:13.767103",
     "exception": false,
     "start_time": "2025-09-10T11:03:13.753502",
     "status": "completed"
    },
    "tags": []
   },
   "outputs": [],
   "source": []
  },
  {
   "cell_type": "code",
   "execution_count": null,
   "id": "1b38948e",
   "metadata": {
    "papermill": {
     "duration": 0.01371,
     "end_time": "2025-09-10T11:03:13.794834",
     "exception": false,
     "start_time": "2025-09-10T11:03:13.781124",
     "status": "completed"
    },
    "tags": []
   },
   "outputs": [],
   "source": []
  },
  {
   "cell_type": "code",
   "execution_count": null,
   "id": "07401e52",
   "metadata": {
    "papermill": {
     "duration": 0.013684,
     "end_time": "2025-09-10T11:03:13.822328",
     "exception": false,
     "start_time": "2025-09-10T11:03:13.808644",
     "status": "completed"
    },
    "tags": []
   },
   "outputs": [],
   "source": []
  },
  {
   "cell_type": "code",
   "execution_count": null,
   "id": "5e56fcbd",
   "metadata": {
    "papermill": {
     "duration": 0.013675,
     "end_time": "2025-09-10T11:03:13.849746",
     "exception": false,
     "start_time": "2025-09-10T11:03:13.836071",
     "status": "completed"
    },
    "tags": []
   },
   "outputs": [],
   "source": []
  },
  {
   "cell_type": "code",
   "execution_count": null,
   "id": "14368cef",
   "metadata": {
    "papermill": {
     "duration": 0.01338,
     "end_time": "2025-09-10T11:03:13.876832",
     "exception": false,
     "start_time": "2025-09-10T11:03:13.863452",
     "status": "completed"
    },
    "tags": []
   },
   "outputs": [],
   "source": []
  },
  {
   "cell_type": "code",
   "execution_count": null,
   "id": "1f760381",
   "metadata": {
    "papermill": {
     "duration": 0.013312,
     "end_time": "2025-09-10T11:03:13.903748",
     "exception": false,
     "start_time": "2025-09-10T11:03:13.890436",
     "status": "completed"
    },
    "tags": []
   },
   "outputs": [],
   "source": []
  },
  {
   "cell_type": "code",
   "execution_count": null,
   "id": "d680c07a",
   "metadata": {
    "papermill": {
     "duration": 0.014414,
     "end_time": "2025-09-10T11:03:13.931904",
     "exception": false,
     "start_time": "2025-09-10T11:03:13.917490",
     "status": "completed"
    },
    "tags": []
   },
   "outputs": [],
   "source": []
  },
  {
   "cell_type": "code",
   "execution_count": null,
   "id": "0f3f88ef",
   "metadata": {
    "papermill": {
     "duration": 0.015242,
     "end_time": "2025-09-10T11:03:13.962883",
     "exception": false,
     "start_time": "2025-09-10T11:03:13.947641",
     "status": "completed"
    },
    "tags": []
   },
   "outputs": [],
   "source": []
  },
  {
   "cell_type": "code",
   "execution_count": null,
   "id": "3c9e38e1",
   "metadata": {
    "papermill": {
     "duration": 0.013603,
     "end_time": "2025-09-10T11:03:13.991004",
     "exception": false,
     "start_time": "2025-09-10T11:03:13.977401",
     "status": "completed"
    },
    "tags": []
   },
   "outputs": [],
   "source": []
  },
  {
   "cell_type": "code",
   "execution_count": null,
   "id": "6ee4768d",
   "metadata": {
    "papermill": {
     "duration": 0.013588,
     "end_time": "2025-09-10T11:03:14.018911",
     "exception": false,
     "start_time": "2025-09-10T11:03:14.005323",
     "status": "completed"
    },
    "tags": []
   },
   "outputs": [],
   "source": []
  },
  {
   "cell_type": "code",
   "execution_count": null,
   "id": "4eae94ca",
   "metadata": {
    "papermill": {
     "duration": 0.01371,
     "end_time": "2025-09-10T11:03:14.046499",
     "exception": false,
     "start_time": "2025-09-10T11:03:14.032789",
     "status": "completed"
    },
    "tags": []
   },
   "outputs": [],
   "source": []
  },
  {
   "cell_type": "code",
   "execution_count": null,
   "id": "300d5820",
   "metadata": {
    "papermill": {
     "duration": 0.015184,
     "end_time": "2025-09-10T11:03:14.075802",
     "exception": false,
     "start_time": "2025-09-10T11:03:14.060618",
     "status": "completed"
    },
    "tags": []
   },
   "outputs": [],
   "source": []
  },
  {
   "cell_type": "code",
   "execution_count": null,
   "id": "249d5e5c",
   "metadata": {
    "papermill": {
     "duration": 0.013887,
     "end_time": "2025-09-10T11:03:14.104203",
     "exception": false,
     "start_time": "2025-09-10T11:03:14.090316",
     "status": "completed"
    },
    "tags": []
   },
   "outputs": [],
   "source": []
  },
  {
   "cell_type": "code",
   "execution_count": null,
   "id": "90c2b856",
   "metadata": {
    "papermill": {
     "duration": 0.01363,
     "end_time": "2025-09-10T11:03:14.131808",
     "exception": false,
     "start_time": "2025-09-10T11:03:14.118178",
     "status": "completed"
    },
    "tags": []
   },
   "outputs": [],
   "source": []
  },
  {
   "cell_type": "code",
   "execution_count": null,
   "id": "719379a4",
   "metadata": {
    "papermill": {
     "duration": 0.013789,
     "end_time": "2025-09-10T11:03:14.159687",
     "exception": false,
     "start_time": "2025-09-10T11:03:14.145898",
     "status": "completed"
    },
    "tags": []
   },
   "outputs": [],
   "source": []
  },
  {
   "cell_type": "code",
   "execution_count": null,
   "id": "5d3be5e2",
   "metadata": {
    "papermill": {
     "duration": 0.01345,
     "end_time": "2025-09-10T11:03:14.187045",
     "exception": false,
     "start_time": "2025-09-10T11:03:14.173595",
     "status": "completed"
    },
    "tags": []
   },
   "outputs": [],
   "source": []
  },
  {
   "cell_type": "code",
   "execution_count": null,
   "id": "34e4cc90",
   "metadata": {
    "papermill": {
     "duration": 0.013594,
     "end_time": "2025-09-10T11:03:14.214836",
     "exception": false,
     "start_time": "2025-09-10T11:03:14.201242",
     "status": "completed"
    },
    "tags": []
   },
   "outputs": [],
   "source": []
  },
  {
   "cell_type": "code",
   "execution_count": null,
   "id": "99b8d26e",
   "metadata": {
    "papermill": {
     "duration": 0.013632,
     "end_time": "2025-09-10T11:03:14.242160",
     "exception": false,
     "start_time": "2025-09-10T11:03:14.228528",
     "status": "completed"
    },
    "tags": []
   },
   "outputs": [],
   "source": []
  },
  {
   "cell_type": "code",
   "execution_count": null,
   "id": "0c4cf055",
   "metadata": {
    "papermill": {
     "duration": 0.01349,
     "end_time": "2025-09-10T11:03:14.269290",
     "exception": false,
     "start_time": "2025-09-10T11:03:14.255800",
     "status": "completed"
    },
    "tags": []
   },
   "outputs": [],
   "source": []
  },
  {
   "cell_type": "code",
   "execution_count": null,
   "id": "eae2237f",
   "metadata": {
    "papermill": {
     "duration": 0.01352,
     "end_time": "2025-09-10T11:03:14.296428",
     "exception": false,
     "start_time": "2025-09-10T11:03:14.282908",
     "status": "completed"
    },
    "tags": []
   },
   "outputs": [],
   "source": []
  },
  {
   "cell_type": "code",
   "execution_count": null,
   "id": "d7dfaf16",
   "metadata": {
    "papermill": {
     "duration": 0.014051,
     "end_time": "2025-09-10T11:03:14.324424",
     "exception": false,
     "start_time": "2025-09-10T11:03:14.310373",
     "status": "completed"
    },
    "tags": []
   },
   "outputs": [],
   "source": []
  },
  {
   "cell_type": "code",
   "execution_count": null,
   "id": "cfe376e9",
   "metadata": {
    "papermill": {
     "duration": 0.01409,
     "end_time": "2025-09-10T11:03:14.352652",
     "exception": false,
     "start_time": "2025-09-10T11:03:14.338562",
     "status": "completed"
    },
    "tags": []
   },
   "outputs": [],
   "source": []
  },
  {
   "cell_type": "code",
   "execution_count": null,
   "id": "d5293689",
   "metadata": {
    "papermill": {
     "duration": 0.013515,
     "end_time": "2025-09-10T11:03:14.380027",
     "exception": false,
     "start_time": "2025-09-10T11:03:14.366512",
     "status": "completed"
    },
    "tags": []
   },
   "outputs": [],
   "source": []
  },
  {
   "cell_type": "code",
   "execution_count": null,
   "id": "2c9e6603",
   "metadata": {
    "papermill": {
     "duration": 0.014904,
     "end_time": "2025-09-10T11:03:14.408774",
     "exception": false,
     "start_time": "2025-09-10T11:03:14.393870",
     "status": "completed"
    },
    "tags": []
   },
   "outputs": [],
   "source": []
  },
  {
   "cell_type": "code",
   "execution_count": null,
   "id": "4f8a8f71",
   "metadata": {
    "papermill": {
     "duration": 0.013823,
     "end_time": "2025-09-10T11:03:14.437793",
     "exception": false,
     "start_time": "2025-09-10T11:03:14.423970",
     "status": "completed"
    },
    "tags": []
   },
   "outputs": [],
   "source": []
  }
 ],
 "metadata": {
  "kaggle": {
   "accelerator": "none",
   "dataSources": [
    {
     "datasetId": 42674,
     "sourceId": 74935,
     "sourceType": "datasetVersion"
    }
   ],
   "dockerImageVersionId": 31089,
   "isGpuEnabled": false,
   "isInternetEnabled": true,
   "language": "python",
   "sourceType": "notebook"
  },
  "kernelspec": {
   "display_name": "Python 3",
   "language": "python",
   "name": "python3"
  },
  "language_info": {
   "codemirror_mode": {
    "name": "ipython",
    "version": 3
   },
   "file_extension": ".py",
   "mimetype": "text/x-python",
   "name": "python",
   "nbconvert_exporter": "python",
   "pygments_lexer": "ipython3",
   "version": "3.11.13"
  },
  "papermill": {
   "default_parameters": {},
   "duration": 15.87767,
   "end_time": "2025-09-10T11:03:15.274819",
   "environment_variables": {},
   "exception": null,
   "input_path": "__notebook__.ipynb",
   "output_path": "__notebook__.ipynb",
   "parameters": {},
   "start_time": "2025-09-10T11:02:59.397149",
   "version": "2.6.0"
  }
 },
 "nbformat": 4,
 "nbformat_minor": 5
}
